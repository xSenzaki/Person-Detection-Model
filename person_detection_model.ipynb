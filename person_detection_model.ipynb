{
 "cells": [
  {
   "cell_type": "code",
   "execution_count": null,
   "metadata": {},
   "outputs": [],
   "source": [
    "%pip install ultralytics"
   ]
  },
  {
   "cell_type": "markdown",
   "metadata": {},
   "source": [
    "EXTRACT DATASET FROM ROBOFLOW"
   ]
  },
  {
   "cell_type": "code",
   "execution_count": 1,
   "metadata": {},
   "outputs": [
    {
     "name": "stdout",
     "output_type": "stream",
     "text": [
      "C:\\Users\\RYZEN\\Desktop\\Person Detection Model\\datasets\n",
      "loading Roboflow workspace...\n",
      "loading Roboflow project...\n"
     ]
    },
    {
     "name": "stderr",
     "output_type": "stream",
     "text": [
      "Downloading Dataset Version Zip in People-Detection-(General)-7 to yolov11:: 100%|██████████| 1124865/1124865 [00:56<00:00, 19958.94it/s]"
     ]
    },
    {
     "name": "stdout",
     "output_type": "stream",
     "text": [
      "\n"
     ]
    },
    {
     "name": "stderr",
     "output_type": "stream",
     "text": [
      "\n",
      "Extracting Dataset Version Zip to People-Detection-(General)-7 in yolov11:: 100%|██████████| 41208/41208 [00:38<00:00, 1071.26it/s]\n"
     ]
    }
   ],
   "source": [
    "%cd C:\\Users\\RYZEN\\Desktop\\Person Detection Model\\datasets\n",
    "from roboflow import Roboflow\n",
    "rf = Roboflow(api_key=\"LGCWgmlpkJRtq4M6dp3l\")\n",
    "project = rf.workspace(\"mohamed-traore-2ekkp\").project(\"people-detection-general\")\n",
    "version = project.version(7)\n",
    "dataset = version.download(\"yolov11\")"
   ]
  },
  {
   "cell_type": "markdown",
   "metadata": {},
   "source": [
    "MODEL TRAINING"
   ]
  },
  {
   "cell_type": "code",
   "execution_count": 2,
   "metadata": {},
   "outputs": [
    {
     "name": "stdout",
     "output_type": "stream",
     "text": [
      "C:\\Users\\RYZEN\\Desktop\\Person Detection Model\\datasets\n",
      "Downloading https://github.com/ultralytics/assets/releases/download/v8.3.0/yolov8n.pt to 'yolov8n.pt'...\n"
     ]
    },
    {
     "name": "stderr",
     "output_type": "stream",
     "text": [
      "100%|██████████| 6.25M/6.25M [00:00<00:00, 93.5MB/s]\n"
     ]
    },
    {
     "name": "stdout",
     "output_type": "stream",
     "text": [
      "New https://pypi.org/project/ultralytics/8.3.94 available  Update with 'pip install -U ultralytics'\n",
      "Ultralytics 8.3.3  Python-3.11.5 torch-2.6.0.dev20241001+cu124 CUDA:0 (NVIDIA GeForce GTX 1650 SUPER, 4096MiB)\n",
      "\u001b[34m\u001b[1mengine\\trainer: \u001b[0mtask=detect, mode=train, model=yolov8n.pt, data=C:\\Users\\RYZEN\\Desktop\\Person Detection Model\\datasets\\People-Detection-(General)-7\\data.yaml, epochs=20, time=None, patience=100, batch=32, imgsz=416, save=True, save_period=-1, cache=False, device=cuda, workers=8, project=person_detection, name=exp1, exist_ok=False, pretrained=True, optimizer=auto, verbose=True, seed=0, deterministic=True, single_cls=False, rect=False, cos_lr=False, close_mosaic=10, resume=False, amp=False, fraction=1.0, profile=False, freeze=None, multi_scale=False, overlap_mask=True, mask_ratio=4, dropout=0.0, val=True, split=val, save_json=False, save_hybrid=False, conf=None, iou=0.7, max_det=300, half=False, dnn=False, plots=True, source=None, vid_stride=1, stream_buffer=False, visualize=False, augment=False, agnostic_nms=False, classes=None, retina_masks=False, embed=None, show=False, save_frames=False, save_txt=False, save_conf=False, save_crop=False, show_labels=True, show_conf=True, show_boxes=True, line_width=None, format=torchscript, keras=False, optimize=False, int8=False, dynamic=False, simplify=True, opset=None, workspace=4, nms=False, lr0=0.01, lrf=0.01, momentum=0.937, weight_decay=0.0005, warmup_epochs=3.0, warmup_momentum=0.8, warmup_bias_lr=0.1, box=7.5, cls=0.5, dfl=1.5, pose=12.0, kobj=1.0, label_smoothing=0.0, nbs=64, hsv_h=0.015, hsv_s=0.7, hsv_v=0.4, degrees=0.0, translate=0.1, scale=0.5, shear=0.0, perspective=0.0, flipud=0.0, fliplr=0.5, bgr=0.0, mosaic=1.0, mixup=0.0, copy_paste=0.0, copy_paste_mode=flip, auto_augment=randaugment, erasing=0.4, crop_fraction=1.0, cfg=None, tracker=botsort.yaml, save_dir=person_detection\\exp1\n",
      "Overriding model.yaml nc=80 with nc=1\n",
      "\n",
      "                   from  n    params  module                                       arguments                     \n",
      "  0                  -1  1       464  ultralytics.nn.modules.conv.Conv             [3, 16, 3, 2]                 \n",
      "  1                  -1  1      4672  ultralytics.nn.modules.conv.Conv             [16, 32, 3, 2]                \n",
      "  2                  -1  1      7360  ultralytics.nn.modules.block.C2f             [32, 32, 1, True]             \n",
      "  3                  -1  1     18560  ultralytics.nn.modules.conv.Conv             [32, 64, 3, 2]                \n",
      "  4                  -1  2     49664  ultralytics.nn.modules.block.C2f             [64, 64, 2, True]             \n",
      "  5                  -1  1     73984  ultralytics.nn.modules.conv.Conv             [64, 128, 3, 2]               \n",
      "  6                  -1  2    197632  ultralytics.nn.modules.block.C2f             [128, 128, 2, True]           \n",
      "  7                  -1  1    295424  ultralytics.nn.modules.conv.Conv             [128, 256, 3, 2]              \n",
      "  8                  -1  1    460288  ultralytics.nn.modules.block.C2f             [256, 256, 1, True]           \n",
      "  9                  -1  1    164608  ultralytics.nn.modules.block.SPPF            [256, 256, 5]                 \n",
      " 10                  -1  1         0  torch.nn.modules.upsampling.Upsample         [None, 2, 'nearest']          \n",
      " 11             [-1, 6]  1         0  ultralytics.nn.modules.conv.Concat           [1]                           \n",
      " 12                  -1  1    148224  ultralytics.nn.modules.block.C2f             [384, 128, 1]                 \n",
      " 13                  -1  1         0  torch.nn.modules.upsampling.Upsample         [None, 2, 'nearest']          \n",
      " 14             [-1, 4]  1         0  ultralytics.nn.modules.conv.Concat           [1]                           \n",
      " 15                  -1  1     37248  ultralytics.nn.modules.block.C2f             [192, 64, 1]                  \n",
      " 16                  -1  1     36992  ultralytics.nn.modules.conv.Conv             [64, 64, 3, 2]                \n",
      " 17            [-1, 12]  1         0  ultralytics.nn.modules.conv.Concat           [1]                           \n",
      " 18                  -1  1    123648  ultralytics.nn.modules.block.C2f             [192, 128, 1]                 \n",
      " 19                  -1  1    147712  ultralytics.nn.modules.conv.Conv             [128, 128, 3, 2]              \n",
      " 20             [-1, 9]  1         0  ultralytics.nn.modules.conv.Concat           [1]                           \n",
      " 21                  -1  1    493056  ultralytics.nn.modules.block.C2f             [384, 256, 1]                 \n",
      " 22        [15, 18, 21]  1    430867  ultralytics.nn.modules.head.Detect           [1, [64, 128, 256]]           \n",
      "Model summary: 249 layers, 2,690,403 parameters, 2,690,387 gradients, 6.9 GFLOPs\n",
      "\n",
      "Transferred 313/391 items from pretrained weights\n",
      "\u001b[34m\u001b[1mTensorBoard: \u001b[0mStart with 'tensorboard --logdir person_detection\\exp1', view at http://localhost:6006/\n",
      "Freezing layer 'model.22.dfl.conv.weight'\n"
     ]
    },
    {
     "name": "stderr",
     "output_type": "stream",
     "text": [
      "\u001b[34m\u001b[1mtrain: \u001b[0mScanning C:\\Users\\RYZEN\\Desktop\\Person Detection Model\\datasets\\People-Detection-(General)-7\\train\\labels... 16205 images, 2742 backgrounds, 0 corrupt: 100%|██████████| 16205/16205 [00:37<00:00, 429.11it/s]\n"
     ]
    },
    {
     "name": "stdout",
     "output_type": "stream",
     "text": [
      "\u001b[34m\u001b[1mtrain: \u001b[0mNew cache created: C:\\Users\\RYZEN\\Desktop\\Person Detection Model\\datasets\\People-Detection-(General)-7\\train\\labels.cache\n"
     ]
    },
    {
     "name": "stderr",
     "output_type": "stream",
     "text": [
      "\u001b[34m\u001b[1mval: \u001b[0mScanning C:\\Users\\RYZEN\\Desktop\\Person Detection Model\\datasets\\People-Detection-(General)-7\\valid\\labels... 2494 images, 361 backgrounds, 0 corrupt: 100%|██████████| 2494/2494 [00:06<00:00, 368.47it/s]\n"
     ]
    },
    {
     "name": "stdout",
     "output_type": "stream",
     "text": [
      "\u001b[34m\u001b[1mval: \u001b[0mNew cache created: C:\\Users\\RYZEN\\Desktop\\Person Detection Model\\datasets\\People-Detection-(General)-7\\valid\\labels.cache\n",
      "Plotting labels to person_detection\\exp1\\labels.jpg... \n",
      "\u001b[34m\u001b[1moptimizer:\u001b[0m 'optimizer=auto' found, ignoring 'lr0=0.01' and 'momentum=0.937' and determining best 'optimizer', 'lr0' and 'momentum' automatically... \n",
      "\u001b[34m\u001b[1moptimizer:\u001b[0m AdamW(lr=0.002, momentum=0.9) with parameter groups 63 weight(decay=0.0), 70 weight(decay=0.0005), 69 bias(decay=0.0)\n",
      "\u001b[34m\u001b[1mTensorBoard: \u001b[0mmodel graph visualization added \n",
      "Image sizes 416 train, 416 val\n",
      "Using 8 dataloader workers\n",
      "Logging results to \u001b[1mperson_detection\\exp1\u001b[0m\n",
      "Starting training for 20 epochs...\n",
      "\n",
      "      Epoch    GPU_mem   box_loss   cls_loss   dfl_loss  Instances       Size\n"
     ]
    },
    {
     "name": "stderr",
     "output_type": "stream",
     "text": [
      "       1/20      3.59G      1.474      1.724      1.283         84        416: 100%|██████████| 507/507 [03:19<00:00,  2.55it/s]\n",
      "                 Class     Images  Instances      Box(P          R      mAP50  mAP50-95): 100%|██████████| 39/39 [01:45<00:00,  2.70s/it]\n"
     ]
    },
    {
     "name": "stdout",
     "output_type": "stream",
     "text": [
      "                   all       2494       7907      0.653      0.587      0.598      0.223\n",
      "\n",
      "      Epoch    GPU_mem   box_loss   cls_loss   dfl_loss  Instances       Size\n"
     ]
    },
    {
     "name": "stderr",
     "output_type": "stream",
     "text": [
      "       2/20      3.54G      1.545      1.491      1.349         84        416: 100%|██████████| 507/507 [03:02<00:00,  2.78it/s]\n",
      "                 Class     Images  Instances      Box(P          R      mAP50  mAP50-95): 100%|██████████| 39/39 [00:56<00:00,  1.45s/it]\n"
     ]
    },
    {
     "name": "stdout",
     "output_type": "stream",
     "text": [
      "                   all       2494       7907      0.682       0.63      0.665      0.254\n",
      "\n",
      "      Epoch    GPU_mem   box_loss   cls_loss   dfl_loss  Instances       Size\n"
     ]
    },
    {
     "name": "stderr",
     "output_type": "stream",
     "text": [
      "       3/20      3.53G       1.52      1.452      1.349         59        416: 100%|██████████| 507/507 [03:02<00:00,  2.77it/s]\n",
      "                 Class     Images  Instances      Box(P          R      mAP50  mAP50-95): 100%|██████████| 39/39 [01:11<00:00,  1.84s/it]\n"
     ]
    },
    {
     "name": "stdout",
     "output_type": "stream",
     "text": [
      "                   all       2494       7907      0.739      0.665      0.673      0.281\n",
      "\n",
      "      Epoch    GPU_mem   box_loss   cls_loss   dfl_loss  Instances       Size\n"
     ]
    },
    {
     "name": "stderr",
     "output_type": "stream",
     "text": [
      "       4/20      3.52G      1.505      1.421      1.332         43        416: 100%|██████████| 507/507 [02:52<00:00,  2.94it/s]\n",
      "                 Class     Images  Instances      Box(P          R      mAP50  mAP50-95): 100%|██████████| 39/39 [02:24<00:00,  3.71s/it]\n"
     ]
    },
    {
     "name": "stdout",
     "output_type": "stream",
     "text": [
      "                   all       2494       7907      0.755      0.666      0.704      0.282\n",
      "\n",
      "      Epoch    GPU_mem   box_loss   cls_loss   dfl_loss  Instances       Size\n"
     ]
    },
    {
     "name": "stderr",
     "output_type": "stream",
     "text": [
      "       5/20      3.65G      1.459      1.348      1.305         36        416: 100%|██████████| 507/507 [02:56<00:00,  2.87it/s]\n",
      "                 Class     Images  Instances      Box(P          R      mAP50  mAP50-95): 100%|██████████| 39/39 [01:41<00:00,  2.61s/it]"
     ]
    },
    {
     "name": "stdout",
     "output_type": "stream",
     "text": [
      "                   all       2494       7907      0.773      0.682      0.742      0.353\n"
     ]
    },
    {
     "name": "stderr",
     "output_type": "stream",
     "text": [
      "\n"
     ]
    },
    {
     "name": "stdout",
     "output_type": "stream",
     "text": [
      "\n",
      "      Epoch    GPU_mem   box_loss   cls_loss   dfl_loss  Instances       Size\n"
     ]
    },
    {
     "name": "stderr",
     "output_type": "stream",
     "text": [
      "       6/20       3.5G      1.415      1.291      1.281         59        416: 100%|██████████| 507/507 [02:52<00:00,  2.94it/s]\n",
      "                 Class     Images  Instances      Box(P          R      mAP50  mAP50-95): 100%|██████████| 39/39 [02:24<00:00,  3.71s/it]"
     ]
    },
    {
     "name": "stdout",
     "output_type": "stream",
     "text": [
      "                   all       2494       7907      0.792      0.701       0.76      0.337\n"
     ]
    },
    {
     "name": "stderr",
     "output_type": "stream",
     "text": [
      "\n"
     ]
    },
    {
     "name": "stdout",
     "output_type": "stream",
     "text": [
      "\n",
      "      Epoch    GPU_mem   box_loss   cls_loss   dfl_loss  Instances       Size\n"
     ]
    },
    {
     "name": "stderr",
     "output_type": "stream",
     "text": [
      "       7/20      3.53G      1.389      1.254      1.267         29        416: 100%|██████████| 507/507 [02:55<00:00,  2.89it/s]\n",
      "                 Class     Images  Instances      Box(P          R      mAP50  mAP50-95): 100%|██████████| 39/39 [01:02<00:00,  1.59s/it]"
     ]
    },
    {
     "name": "stdout",
     "output_type": "stream",
     "text": [
      "                   all       2494       7907      0.814      0.705      0.779      0.351\n"
     ]
    },
    {
     "name": "stderr",
     "output_type": "stream",
     "text": [
      "\n"
     ]
    },
    {
     "name": "stdout",
     "output_type": "stream",
     "text": [
      "\n",
      "      Epoch    GPU_mem   box_loss   cls_loss   dfl_loss  Instances       Size\n"
     ]
    },
    {
     "name": "stderr",
     "output_type": "stream",
     "text": [
      "       8/20      3.54G       1.36      1.228      1.258         31        416: 100%|██████████| 507/507 [02:51<00:00,  2.95it/s]\n",
      "                 Class     Images  Instances      Box(P          R      mAP50  mAP50-95): 100%|██████████| 39/39 [01:32<00:00,  2.38s/it]\n"
     ]
    },
    {
     "name": "stdout",
     "output_type": "stream",
     "text": [
      "                   all       2494       7907      0.818      0.737      0.793      0.382\n",
      "\n",
      "      Epoch    GPU_mem   box_loss   cls_loss   dfl_loss  Instances       Size\n"
     ]
    },
    {
     "name": "stderr",
     "output_type": "stream",
     "text": [
      "       9/20      3.52G      1.334      1.197      1.245         59        416: 100%|██████████| 507/507 [02:55<00:00,  2.89it/s]\n",
      "                 Class     Images  Instances      Box(P          R      mAP50  mAP50-95): 100%|██████████| 39/39 [01:11<00:00,  1.83s/it]"
     ]
    },
    {
     "name": "stdout",
     "output_type": "stream",
     "text": [
      "                   all       2494       7907      0.824      0.743      0.802      0.398\n"
     ]
    },
    {
     "name": "stderr",
     "output_type": "stream",
     "text": [
      "\n"
     ]
    },
    {
     "name": "stdout",
     "output_type": "stream",
     "text": [
      "\n",
      "      Epoch    GPU_mem   box_loss   cls_loss   dfl_loss  Instances       Size\n"
     ]
    },
    {
     "name": "stderr",
     "output_type": "stream",
     "text": [
      "      10/20      3.55G      1.319       1.18      1.236         59        416: 100%|██████████| 507/507 [02:52<00:00,  2.94it/s]\n",
      "                 Class     Images  Instances      Box(P          R      mAP50  mAP50-95): 100%|██████████| 39/39 [02:27<00:00,  3.77s/it]"
     ]
    },
    {
     "name": "stdout",
     "output_type": "stream",
     "text": [
      "                   all       2494       7907      0.824       0.75      0.806      0.423\n"
     ]
    },
    {
     "name": "stderr",
     "output_type": "stream",
     "text": [
      "\n"
     ]
    },
    {
     "name": "stdout",
     "output_type": "stream",
     "text": [
      "Closing dataloader mosaic\n",
      "\n",
      "      Epoch    GPU_mem   box_loss   cls_loss   dfl_loss  Instances       Size\n"
     ]
    },
    {
     "name": "stderr",
     "output_type": "stream",
     "text": [
      "      11/20      3.51G       1.34      1.036      1.204         61        416: 100%|██████████| 507/507 [02:53<00:00,  2.93it/s]\n",
      "                 Class     Images  Instances      Box(P          R      mAP50  mAP50-95): 100%|██████████| 39/39 [01:01<00:00,  1.59s/it]"
     ]
    },
    {
     "name": "stdout",
     "output_type": "stream",
     "text": [
      "                   all       2494       7907      0.832      0.755      0.819      0.434\n"
     ]
    },
    {
     "name": "stderr",
     "output_type": "stream",
     "text": [
      "\n"
     ]
    },
    {
     "name": "stdout",
     "output_type": "stream",
     "text": [
      "\n",
      "      Epoch    GPU_mem   box_loss   cls_loss   dfl_loss  Instances       Size\n"
     ]
    },
    {
     "name": "stderr",
     "output_type": "stream",
     "text": [
      "      12/20      3.54G      1.304     0.9893       1.19         35        416: 100%|██████████| 507/507 [02:50<00:00,  2.97it/s]\n",
      "                 Class     Images  Instances      Box(P          R      mAP50  mAP50-95): 100%|██████████| 39/39 [02:04<00:00,  3.20s/it]"
     ]
    },
    {
     "name": "stdout",
     "output_type": "stream",
     "text": [
      "                   all       2494       7907      0.815      0.751      0.812      0.455\n"
     ]
    },
    {
     "name": "stderr",
     "output_type": "stream",
     "text": [
      "\n"
     ]
    },
    {
     "name": "stdout",
     "output_type": "stream",
     "text": [
      "\n",
      "      Epoch    GPU_mem   box_loss   cls_loss   dfl_loss  Instances       Size\n"
     ]
    },
    {
     "name": "stderr",
     "output_type": "stream",
     "text": [
      "      13/20      3.53G      1.286      0.954      1.174         12        416: 100%|██████████| 507/507 [02:53<00:00,  2.93it/s]\n",
      "                 Class     Images  Instances      Box(P          R      mAP50  mAP50-95): 100%|██████████| 39/39 [01:11<00:00,  1.83s/it]"
     ]
    },
    {
     "name": "stdout",
     "output_type": "stream",
     "text": [
      "                   all       2494       7907      0.837      0.757      0.826      0.452\n"
     ]
    },
    {
     "name": "stderr",
     "output_type": "stream",
     "text": [
      "\n"
     ]
    },
    {
     "name": "stdout",
     "output_type": "stream",
     "text": [
      "\n",
      "      Epoch    GPU_mem   box_loss   cls_loss   dfl_loss  Instances       Size\n"
     ]
    },
    {
     "name": "stderr",
     "output_type": "stream",
     "text": [
      "      14/20      3.55G       1.27     0.9348      1.164         84        416: 100%|██████████| 507/507 [02:50<00:00,  2.97it/s]\n",
      "                 Class     Images  Instances      Box(P          R      mAP50  mAP50-95): 100%|██████████| 39/39 [02:26<00:00,  3.77s/it]"
     ]
    },
    {
     "name": "stdout",
     "output_type": "stream",
     "text": [
      "                   all       2494       7907      0.846      0.763      0.829       0.46\n"
     ]
    },
    {
     "name": "stderr",
     "output_type": "stream",
     "text": [
      "\n"
     ]
    },
    {
     "name": "stdout",
     "output_type": "stream",
     "text": [
      "\n",
      "      Epoch    GPU_mem   box_loss   cls_loss   dfl_loss  Instances       Size\n"
     ]
    },
    {
     "name": "stderr",
     "output_type": "stream",
     "text": [
      "      15/20      3.49G      1.237     0.9043      1.152         54        416: 100%|██████████| 507/507 [02:53<00:00,  2.91it/s]\n",
      "                 Class     Images  Instances      Box(P          R      mAP50  mAP50-95): 100%|██████████| 39/39 [01:01<00:00,  1.58s/it]"
     ]
    },
    {
     "name": "stdout",
     "output_type": "stream",
     "text": [
      "                   all       2494       7907      0.846      0.772      0.839      0.468\n"
     ]
    },
    {
     "name": "stderr",
     "output_type": "stream",
     "text": [
      "\n"
     ]
    },
    {
     "name": "stdout",
     "output_type": "stream",
     "text": [
      "\n",
      "      Epoch    GPU_mem   box_loss   cls_loss   dfl_loss  Instances       Size\n"
     ]
    },
    {
     "name": "stderr",
     "output_type": "stream",
     "text": [
      "      16/20      3.52G       1.22     0.8819      1.139         57        416: 100%|██████████| 507/507 [02:50<00:00,  2.98it/s]\n",
      "                 Class     Images  Instances      Box(P          R      mAP50  mAP50-95): 100%|██████████| 39/39 [02:10<00:00,  3.34s/it]"
     ]
    },
    {
     "name": "stdout",
     "output_type": "stream",
     "text": [
      "                   all       2494       7907      0.854      0.778      0.842      0.486\n"
     ]
    },
    {
     "name": "stderr",
     "output_type": "stream",
     "text": [
      "\n"
     ]
    },
    {
     "name": "stdout",
     "output_type": "stream",
     "text": [
      "\n",
      "      Epoch    GPU_mem   box_loss   cls_loss   dfl_loss  Instances       Size\n"
     ]
    },
    {
     "name": "stderr",
     "output_type": "stream",
     "text": [
      "      17/20      3.53G       1.19     0.8572      1.128         40        416: 100%|██████████| 507/507 [02:52<00:00,  2.93it/s]\n",
      "                 Class     Images  Instances      Box(P          R      mAP50  mAP50-95): 100%|██████████| 39/39 [01:34<00:00,  2.43s/it]"
     ]
    },
    {
     "name": "stdout",
     "output_type": "stream",
     "text": [
      "                   all       2494       7907      0.847      0.777      0.839      0.495\n"
     ]
    },
    {
     "name": "stderr",
     "output_type": "stream",
     "text": [
      "\n"
     ]
    },
    {
     "name": "stdout",
     "output_type": "stream",
     "text": [
      "\n",
      "      Epoch    GPU_mem   box_loss   cls_loss   dfl_loss  Instances       Size\n"
     ]
    },
    {
     "name": "stderr",
     "output_type": "stream",
     "text": [
      "      18/20      3.51G      1.166       0.84       1.12         23        416: 100%|██████████| 507/507 [02:50<00:00,  2.97it/s]\n",
      "                 Class     Images  Instances      Box(P          R      mAP50  mAP50-95): 100%|██████████| 39/39 [02:05<00:00,  3.21s/it]"
     ]
    },
    {
     "name": "stdout",
     "output_type": "stream",
     "text": [
      "                   all       2494       7907      0.853       0.78      0.844      0.497\n"
     ]
    },
    {
     "name": "stderr",
     "output_type": "stream",
     "text": [
      "\n"
     ]
    },
    {
     "name": "stdout",
     "output_type": "stream",
     "text": [
      "\n",
      "      Epoch    GPU_mem   box_loss   cls_loss   dfl_loss  Instances       Size\n"
     ]
    },
    {
     "name": "stderr",
     "output_type": "stream",
     "text": [
      "      19/20      3.51G      1.148     0.8122      1.102         12        416: 100%|██████████| 507/507 [02:53<00:00,  2.92it/s]\n",
      "                 Class     Images  Instances      Box(P          R      mAP50  mAP50-95): 100%|██████████| 39/39 [01:01<00:00,  1.58s/it]"
     ]
    },
    {
     "name": "stdout",
     "output_type": "stream",
     "text": [
      "                   all       2494       7907      0.865      0.784       0.85        0.5\n"
     ]
    },
    {
     "name": "stderr",
     "output_type": "stream",
     "text": [
      "\n"
     ]
    },
    {
     "name": "stdout",
     "output_type": "stream",
     "text": [
      "\n",
      "      Epoch    GPU_mem   box_loss   cls_loss   dfl_loss  Instances       Size\n"
     ]
    },
    {
     "name": "stderr",
     "output_type": "stream",
     "text": [
      "      20/20      3.54G      1.127     0.7951      1.097         66        416: 100%|██████████| 507/507 [02:50<00:00,  2.98it/s]\n",
      "                 Class     Images  Instances      Box(P          R      mAP50  mAP50-95): 100%|██████████| 39/39 [02:04<00:00,  3.19s/it]"
     ]
    },
    {
     "name": "stdout",
     "output_type": "stream",
     "text": [
      "                   all       2494       7907       0.86      0.788      0.851      0.505\n"
     ]
    },
    {
     "name": "stderr",
     "output_type": "stream",
     "text": [
      "\n"
     ]
    },
    {
     "name": "stdout",
     "output_type": "stream",
     "text": [
      "\n",
      "20 epochs completed in 1.548 hours.\n",
      "Optimizer stripped from person_detection\\exp1\\weights\\last.pt, 5.6MB\n",
      "Optimizer stripped from person_detection\\exp1\\weights\\best.pt, 5.6MB\n",
      "\n",
      "Validating person_detection\\exp1\\weights\\best.pt...\n",
      "Ultralytics 8.3.3  Python-3.11.5 torch-2.6.0.dev20241001+cu124 CUDA:0 (NVIDIA GeForce GTX 1650 SUPER, 4096MiB)\n",
      "Model summary (fused): 186 layers, 2,684,563 parameters, 0 gradients, 6.8 GFLOPs\n"
     ]
    },
    {
     "name": "stderr",
     "output_type": "stream",
     "text": [
      "                 Class     Images  Instances      Box(P          R      mAP50  mAP50-95): 100%|██████████| 39/39 [00:20<00:00,  1.95it/s]\n"
     ]
    },
    {
     "name": "stdout",
     "output_type": "stream",
     "text": [
      "                   all       2494       7907       0.86      0.788      0.851      0.506\n",
      "Speed: 0.1ms preprocess, 2.2ms inference, 0.0ms loss, 1.2ms postprocess per image\n",
      "Results saved to \u001b[1mperson_detection\\exp1\u001b[0m\n",
      "Training Results: ultralytics.utils.metrics.DetMetrics object with attributes:\n",
      "\n",
      "ap_class_index: array([0])\n",
      "box: ultralytics.utils.metrics.Metric object\n",
      "confusion_matrix: <ultralytics.utils.metrics.ConfusionMatrix object at 0x000001471EC3A010>\n",
      "curves: ['Precision-Recall(B)', 'F1-Confidence(B)', 'Precision-Confidence(B)', 'Recall-Confidence(B)']\n",
      "curves_results: [[array([          0,    0.001001,    0.002002,    0.003003,    0.004004,    0.005005,    0.006006,    0.007007,    0.008008,    0.009009,     0.01001,    0.011011,    0.012012,    0.013013,    0.014014,    0.015015,    0.016016,    0.017017,    0.018018,    0.019019,     0.02002,    0.021021,    0.022022,    0.023023,\n",
      "          0.024024,    0.025025,    0.026026,    0.027027,    0.028028,    0.029029,     0.03003,    0.031031,    0.032032,    0.033033,    0.034034,    0.035035,    0.036036,    0.037037,    0.038038,    0.039039,     0.04004,    0.041041,    0.042042,    0.043043,    0.044044,    0.045045,    0.046046,    0.047047,\n",
      "          0.048048,    0.049049,     0.05005,    0.051051,    0.052052,    0.053053,    0.054054,    0.055055,    0.056056,    0.057057,    0.058058,    0.059059,     0.06006,    0.061061,    0.062062,    0.063063,    0.064064,    0.065065,    0.066066,    0.067067,    0.068068,    0.069069,     0.07007,    0.071071,\n",
      "          0.072072,    0.073073,    0.074074,    0.075075,    0.076076,    0.077077,    0.078078,    0.079079,     0.08008,    0.081081,    0.082082,    0.083083,    0.084084,    0.085085,    0.086086,    0.087087,    0.088088,    0.089089,     0.09009,    0.091091,    0.092092,    0.093093,    0.094094,    0.095095,\n",
      "          0.096096,    0.097097,    0.098098,    0.099099,      0.1001,      0.1011,      0.1021,      0.1031,      0.1041,     0.10511,     0.10611,     0.10711,     0.10811,     0.10911,     0.11011,     0.11111,     0.11211,     0.11311,     0.11411,     0.11512,     0.11612,     0.11712,     0.11812,     0.11912,\n",
      "           0.12012,     0.12112,     0.12212,     0.12312,     0.12412,     0.12513,     0.12613,     0.12713,     0.12813,     0.12913,     0.13013,     0.13113,     0.13213,     0.13313,     0.13413,     0.13514,     0.13614,     0.13714,     0.13814,     0.13914,     0.14014,     0.14114,     0.14214,     0.14314,\n",
      "           0.14414,     0.14515,     0.14615,     0.14715,     0.14815,     0.14915,     0.15015,     0.15115,     0.15215,     0.15315,     0.15415,     0.15516,     0.15616,     0.15716,     0.15816,     0.15916,     0.16016,     0.16116,     0.16216,     0.16316,     0.16416,     0.16517,     0.16617,     0.16717,\n",
      "           0.16817,     0.16917,     0.17017,     0.17117,     0.17217,     0.17317,     0.17417,     0.17518,     0.17618,     0.17718,     0.17818,     0.17918,     0.18018,     0.18118,     0.18218,     0.18318,     0.18418,     0.18519,     0.18619,     0.18719,     0.18819,     0.18919,     0.19019,     0.19119,\n",
      "           0.19219,     0.19319,     0.19419,      0.1952,      0.1962,      0.1972,      0.1982,      0.1992,      0.2002,      0.2012,      0.2022,      0.2032,      0.2042,     0.20521,     0.20621,     0.20721,     0.20821,     0.20921,     0.21021,     0.21121,     0.21221,     0.21321,     0.21421,     0.21522,\n",
      "           0.21622,     0.21722,     0.21822,     0.21922,     0.22022,     0.22122,     0.22222,     0.22322,     0.22422,     0.22523,     0.22623,     0.22723,     0.22823,     0.22923,     0.23023,     0.23123,     0.23223,     0.23323,     0.23423,     0.23524,     0.23624,     0.23724,     0.23824,     0.23924,\n",
      "           0.24024,     0.24124,     0.24224,     0.24324,     0.24424,     0.24525,     0.24625,     0.24725,     0.24825,     0.24925,     0.25025,     0.25125,     0.25225,     0.25325,     0.25425,     0.25526,     0.25626,     0.25726,     0.25826,     0.25926,     0.26026,     0.26126,     0.26226,     0.26326,\n",
      "           0.26426,     0.26527,     0.26627,     0.26727,     0.26827,     0.26927,     0.27027,     0.27127,     0.27227,     0.27327,     0.27427,     0.27528,     0.27628,     0.27728,     0.27828,     0.27928,     0.28028,     0.28128,     0.28228,     0.28328,     0.28428,     0.28529,     0.28629,     0.28729,\n",
      "           0.28829,     0.28929,     0.29029,     0.29129,     0.29229,     0.29329,     0.29429,      0.2953,      0.2963,      0.2973,      0.2983,      0.2993,      0.3003,      0.3013,      0.3023,      0.3033,      0.3043,     0.30531,     0.30631,     0.30731,     0.30831,     0.30931,     0.31031,     0.31131,\n",
      "           0.31231,     0.31331,     0.31431,     0.31532,     0.31632,     0.31732,     0.31832,     0.31932,     0.32032,     0.32132,     0.32232,     0.32332,     0.32432,     0.32533,     0.32633,     0.32733,     0.32833,     0.32933,     0.33033,     0.33133,     0.33233,     0.33333,     0.33433,     0.33534,\n",
      "           0.33634,     0.33734,     0.33834,     0.33934,     0.34034,     0.34134,     0.34234,     0.34334,     0.34434,     0.34535,     0.34635,     0.34735,     0.34835,     0.34935,     0.35035,     0.35135,     0.35235,     0.35335,     0.35435,     0.35536,     0.35636,     0.35736,     0.35836,     0.35936,\n",
      "           0.36036,     0.36136,     0.36236,     0.36336,     0.36436,     0.36537,     0.36637,     0.36737,     0.36837,     0.36937,     0.37037,     0.37137,     0.37237,     0.37337,     0.37437,     0.37538,     0.37638,     0.37738,     0.37838,     0.37938,     0.38038,     0.38138,     0.38238,     0.38338,\n",
      "           0.38438,     0.38539,     0.38639,     0.38739,     0.38839,     0.38939,     0.39039,     0.39139,     0.39239,     0.39339,     0.39439,      0.3954,      0.3964,      0.3974,      0.3984,      0.3994,      0.4004,      0.4014,      0.4024,      0.4034,      0.4044,     0.40541,     0.40641,     0.40741,\n",
      "           0.40841,     0.40941,     0.41041,     0.41141,     0.41241,     0.41341,     0.41441,     0.41542,     0.41642,     0.41742,     0.41842,     0.41942,     0.42042,     0.42142,     0.42242,     0.42342,     0.42442,     0.42543,     0.42643,     0.42743,     0.42843,     0.42943,     0.43043,     0.43143,\n",
      "           0.43243,     0.43343,     0.43443,     0.43544,     0.43644,     0.43744,     0.43844,     0.43944,     0.44044,     0.44144,     0.44244,     0.44344,     0.44444,     0.44545,     0.44645,     0.44745,     0.44845,     0.44945,     0.45045,     0.45145,     0.45245,     0.45345,     0.45445,     0.45546,\n",
      "           0.45646,     0.45746,     0.45846,     0.45946,     0.46046,     0.46146,     0.46246,     0.46346,     0.46446,     0.46547,     0.46647,     0.46747,     0.46847,     0.46947,     0.47047,     0.47147,     0.47247,     0.47347,     0.47447,     0.47548,     0.47648,     0.47748,     0.47848,     0.47948,\n",
      "           0.48048,     0.48148,     0.48248,     0.48348,     0.48448,     0.48549,     0.48649,     0.48749,     0.48849,     0.48949,     0.49049,     0.49149,     0.49249,     0.49349,     0.49449,      0.4955,      0.4965,      0.4975,      0.4985,      0.4995,      0.5005,      0.5015,      0.5025,      0.5035,\n",
      "            0.5045,     0.50551,     0.50651,     0.50751,     0.50851,     0.50951,     0.51051,     0.51151,     0.51251,     0.51351,     0.51451,     0.51552,     0.51652,     0.51752,     0.51852,     0.51952,     0.52052,     0.52152,     0.52252,     0.52352,     0.52452,     0.52553,     0.52653,     0.52753,\n",
      "           0.52853,     0.52953,     0.53053,     0.53153,     0.53253,     0.53353,     0.53453,     0.53554,     0.53654,     0.53754,     0.53854,     0.53954,     0.54054,     0.54154,     0.54254,     0.54354,     0.54454,     0.54555,     0.54655,     0.54755,     0.54855,     0.54955,     0.55055,     0.55155,\n",
      "           0.55255,     0.55355,     0.55455,     0.55556,     0.55656,     0.55756,     0.55856,     0.55956,     0.56056,     0.56156,     0.56256,     0.56356,     0.56456,     0.56557,     0.56657,     0.56757,     0.56857,     0.56957,     0.57057,     0.57157,     0.57257,     0.57357,     0.57457,     0.57558,\n",
      "           0.57658,     0.57758,     0.57858,     0.57958,     0.58058,     0.58158,     0.58258,     0.58358,     0.58458,     0.58559,     0.58659,     0.58759,     0.58859,     0.58959,     0.59059,     0.59159,     0.59259,     0.59359,     0.59459,      0.5956,      0.5966,      0.5976,      0.5986,      0.5996,\n",
      "            0.6006,      0.6016,      0.6026,      0.6036,      0.6046,     0.60561,     0.60661,     0.60761,     0.60861,     0.60961,     0.61061,     0.61161,     0.61261,     0.61361,     0.61461,     0.61562,     0.61662,     0.61762,     0.61862,     0.61962,     0.62062,     0.62162,     0.62262,     0.62362,\n",
      "           0.62462,     0.62563,     0.62663,     0.62763,     0.62863,     0.62963,     0.63063,     0.63163,     0.63263,     0.63363,     0.63463,     0.63564,     0.63664,     0.63764,     0.63864,     0.63964,     0.64064,     0.64164,     0.64264,     0.64364,     0.64464,     0.64565,     0.64665,     0.64765,\n",
      "           0.64865,     0.64965,     0.65065,     0.65165,     0.65265,     0.65365,     0.65465,     0.65566,     0.65666,     0.65766,     0.65866,     0.65966,     0.66066,     0.66166,     0.66266,     0.66366,     0.66466,     0.66567,     0.66667,     0.66767,     0.66867,     0.66967,     0.67067,     0.67167,\n",
      "           0.67267,     0.67367,     0.67467,     0.67568,     0.67668,     0.67768,     0.67868,     0.67968,     0.68068,     0.68168,     0.68268,     0.68368,     0.68468,     0.68569,     0.68669,     0.68769,     0.68869,     0.68969,     0.69069,     0.69169,     0.69269,     0.69369,     0.69469,      0.6957,\n",
      "            0.6967,      0.6977,      0.6987,      0.6997,      0.7007,      0.7017,      0.7027,      0.7037,      0.7047,     0.70571,     0.70671,     0.70771,     0.70871,     0.70971,     0.71071,     0.71171,     0.71271,     0.71371,     0.71471,     0.71572,     0.71672,     0.71772,     0.71872,     0.71972,\n",
      "           0.72072,     0.72172,     0.72272,     0.72372,     0.72472,     0.72573,     0.72673,     0.72773,     0.72873,     0.72973,     0.73073,     0.73173,     0.73273,     0.73373,     0.73473,     0.73574,     0.73674,     0.73774,     0.73874,     0.73974,     0.74074,     0.74174,     0.74274,     0.74374,\n",
      "           0.74474,     0.74575,     0.74675,     0.74775,     0.74875,     0.74975,     0.75075,     0.75175,     0.75275,     0.75375,     0.75475,     0.75576,     0.75676,     0.75776,     0.75876,     0.75976,     0.76076,     0.76176,     0.76276,     0.76376,     0.76476,     0.76577,     0.76677,     0.76777,\n",
      "           0.76877,     0.76977,     0.77077,     0.77177,     0.77277,     0.77377,     0.77477,     0.77578,     0.77678,     0.77778,     0.77878,     0.77978,     0.78078,     0.78178,     0.78278,     0.78378,     0.78478,     0.78579,     0.78679,     0.78779,     0.78879,     0.78979,     0.79079,     0.79179,\n",
      "           0.79279,     0.79379,     0.79479,      0.7958,      0.7968,      0.7978,      0.7988,      0.7998,      0.8008,      0.8018,      0.8028,      0.8038,      0.8048,     0.80581,     0.80681,     0.80781,     0.80881,     0.80981,     0.81081,     0.81181,     0.81281,     0.81381,     0.81481,     0.81582,\n",
      "           0.81682,     0.81782,     0.81882,     0.81982,     0.82082,     0.82182,     0.82282,     0.82382,     0.82482,     0.82583,     0.82683,     0.82783,     0.82883,     0.82983,     0.83083,     0.83183,     0.83283,     0.83383,     0.83483,     0.83584,     0.83684,     0.83784,     0.83884,     0.83984,\n",
      "           0.84084,     0.84184,     0.84284,     0.84384,     0.84484,     0.84585,     0.84685,     0.84785,     0.84885,     0.84985,     0.85085,     0.85185,     0.85285,     0.85385,     0.85485,     0.85586,     0.85686,     0.85786,     0.85886,     0.85986,     0.86086,     0.86186,     0.86286,     0.86386,\n",
      "           0.86486,     0.86587,     0.86687,     0.86787,     0.86887,     0.86987,     0.87087,     0.87187,     0.87287,     0.87387,     0.87487,     0.87588,     0.87688,     0.87788,     0.87888,     0.87988,     0.88088,     0.88188,     0.88288,     0.88388,     0.88488,     0.88589,     0.88689,     0.88789,\n",
      "           0.88889,     0.88989,     0.89089,     0.89189,     0.89289,     0.89389,     0.89489,      0.8959,      0.8969,      0.8979,      0.8989,      0.8999,      0.9009,      0.9019,      0.9029,      0.9039,      0.9049,     0.90591,     0.90691,     0.90791,     0.90891,     0.90991,     0.91091,     0.91191,\n",
      "           0.91291,     0.91391,     0.91491,     0.91592,     0.91692,     0.91792,     0.91892,     0.91992,     0.92092,     0.92192,     0.92292,     0.92392,     0.92492,     0.92593,     0.92693,     0.92793,     0.92893,     0.92993,     0.93093,     0.93193,     0.93293,     0.93393,     0.93493,     0.93594,\n",
      "           0.93694,     0.93794,     0.93894,     0.93994,     0.94094,     0.94194,     0.94294,     0.94394,     0.94494,     0.94595,     0.94695,     0.94795,     0.94895,     0.94995,     0.95095,     0.95195,     0.95295,     0.95395,     0.95495,     0.95596,     0.95696,     0.95796,     0.95896,     0.95996,\n",
      "           0.96096,     0.96196,     0.96296,     0.96396,     0.96496,     0.96597,     0.96697,     0.96797,     0.96897,     0.96997,     0.97097,     0.97197,     0.97297,     0.97397,     0.97497,     0.97598,     0.97698,     0.97798,     0.97898,     0.97998,     0.98098,     0.98198,     0.98298,     0.98398,\n",
      "           0.98498,     0.98599,     0.98699,     0.98799,     0.98899,     0.98999,     0.99099,     0.99199,     0.99299,     0.99399,     0.99499,       0.996,       0.997,       0.998,       0.999,           1]), array([[          1,           1,           1,           1,           1,           1,           1,           1,     0.98876,     0.98876,     0.98876,     0.98876,      0.9798,     0.97561,     0.97561,     0.97561,     0.97037,     0.96567,     0.96567,     0.96567,     0.96567,     0.96567,     0.96567,\n",
      "            0.96567,     0.96567,     0.96567,     0.96567,     0.96567,     0.96567,       0.962,       0.962,       0.962,       0.962,       0.962,       0.962,       0.962,       0.962,       0.962,       0.962,       0.962,       0.962,       0.962,       0.962,       0.962,       0.962,       0.962,\n",
      "              0.962,       0.962,       0.962,       0.962,       0.962,       0.962,       0.962,       0.962,       0.962,       0.962,       0.962,       0.962,       0.962,       0.962,       0.962,       0.962,       0.962,       0.962,       0.962,       0.962,       0.962,       0.962,       0.962,\n",
      "              0.962,       0.962,       0.962,       0.962,       0.962,       0.962,       0.962,       0.962,       0.962,       0.962,       0.962,       0.962,       0.962,       0.962,       0.962,       0.962,       0.962,       0.962,       0.962,       0.962,       0.962,       0.962,       0.962,\n",
      "              0.962,       0.962,       0.962,       0.962,       0.962,       0.962,       0.962,       0.962,       0.962,       0.962,       0.962,       0.962,       0.962,       0.962,       0.962,       0.962,       0.962,       0.962,       0.962,       0.962,       0.962,       0.962,       0.962,\n",
      "              0.962,       0.962,       0.962,       0.962,       0.962,       0.962,       0.962,       0.962,       0.962,       0.962,       0.962,       0.962,       0.962,       0.962,       0.962,       0.962,       0.962,       0.962,       0.962,       0.962,       0.962,       0.962,       0.962,\n",
      "              0.962,       0.962,       0.962,       0.962,       0.962,       0.962,       0.962,       0.962,       0.962,       0.962,       0.962,       0.962,       0.962,       0.962,       0.962,       0.962,       0.962,       0.962,       0.962,       0.962,       0.962,       0.962,       0.962,\n",
      "              0.962,       0.962,       0.962,       0.962,       0.962,       0.962,       0.962,       0.962,       0.962,       0.962,       0.962,       0.962,       0.962,       0.962,       0.962,       0.962,       0.962,       0.962,       0.962,       0.962,       0.962,       0.962,       0.962,\n",
      "              0.962,       0.962,       0.962,       0.962,       0.962,       0.962,       0.962,       0.962,       0.962,       0.962,       0.962,       0.962,       0.962,       0.962,       0.962,       0.962,       0.962,       0.962,       0.962,       0.962,       0.962,       0.962,       0.962,\n",
      "              0.962,       0.962,       0.962,       0.962,       0.962,       0.962,       0.962,       0.962,       0.962,       0.962,       0.962,       0.962,       0.962,       0.962,       0.962,       0.962,       0.962,       0.962,       0.962,       0.962,       0.962,       0.962,       0.962,\n",
      "              0.962,       0.962,       0.962,       0.962,       0.962,       0.962,       0.962,       0.962,       0.962,       0.962,       0.962,       0.962,       0.962,       0.962,       0.962,       0.962,       0.962,       0.962,       0.962,       0.962,       0.962,       0.962,       0.962,\n",
      "              0.962,       0.962,       0.962,       0.962,       0.962,       0.962,       0.962,       0.962,       0.962,       0.962,       0.962,       0.962,       0.962,       0.962,       0.962,       0.962,       0.962,       0.962,       0.962,       0.962,       0.962,       0.962,       0.962,\n",
      "              0.962,       0.962,       0.962,       0.962,       0.962,       0.962,       0.962,       0.962,       0.962,       0.962,       0.962,       0.962,       0.962,       0.962,       0.962,       0.962,       0.962,       0.962,       0.962,       0.962,       0.962,       0.962,       0.962,\n",
      "              0.962,       0.962,       0.962,       0.962,       0.962,       0.962,       0.962,       0.962,       0.962,       0.962,       0.962,       0.962,       0.962,       0.962,       0.962,       0.962,       0.962,       0.962,       0.962,       0.962,       0.962,       0.962,       0.962,\n",
      "              0.962,       0.962,     0.96183,     0.96165,     0.96165,     0.96165,     0.96165,     0.96165,     0.96165,     0.96165,     0.96165,     0.96144,      0.9612,     0.96101,     0.96101,     0.96071,     0.96071,     0.96071,     0.96071,     0.96071,     0.96071,     0.96042,     0.96021,\n",
      "            0.96004,     0.96004,     0.95994,     0.95994,     0.95972,     0.95971,     0.95971,     0.95971,     0.95971,     0.95971,     0.95971,     0.95971,     0.95971,     0.95971,     0.95971,     0.95971,     0.95971,     0.95971,     0.95971,     0.95971,     0.95971,     0.95971,     0.95971,\n",
      "            0.95955,     0.95954,     0.95954,     0.95954,     0.95929,     0.95929,     0.95929,     0.95929,     0.95929,     0.95929,     0.95929,     0.95925,     0.95925,     0.95925,     0.95925,     0.95925,     0.95925,     0.95925,     0.95925,     0.95925,     0.95925,     0.95925,     0.95925,\n",
      "            0.95925,     0.95925,     0.95905,       0.959,       0.959,       0.959,       0.959,       0.959,      0.9588,      0.9588,      0.9588,      0.9588,      0.9588,      0.9588,      0.9588,      0.9588,      0.9588,      0.9588,      0.9588,      0.9588,      0.9588,     0.95837,     0.95837,\n",
      "            0.95824,     0.95824,     0.95824,     0.95824,     0.95823,     0.95823,     0.95823,     0.95823,     0.95823,     0.95823,     0.95818,     0.95818,     0.95798,     0.95798,     0.95798,     0.95798,     0.95798,     0.95798,     0.95798,     0.95798,     0.95798,     0.95798,     0.95798,\n",
      "            0.95798,     0.95798,     0.95798,     0.95798,     0.95763,     0.95763,     0.95763,     0.95763,     0.95763,     0.95744,     0.95736,     0.95736,     0.95736,     0.95736,     0.95736,     0.95736,     0.95736,      0.9572,      0.9572,      0.9572,      0.9572,      0.9572,      0.9572,\n",
      "             0.9572,      0.9572,      0.9572,      0.9572,     0.95719,     0.95719,     0.95719,     0.95719,     0.95719,     0.95719,     0.95719,     0.95719,     0.95712,     0.95712,     0.95704,     0.95704,      0.9569,     0.95657,     0.95657,     0.95641,     0.95625,     0.95615,     0.95615,\n",
      "             0.9561,      0.9561,     0.95605,     0.95605,     0.95592,     0.95574,     0.95535,     0.95527,     0.95527,     0.95508,     0.95508,     0.95508,     0.95508,     0.95508,     0.95491,     0.95478,     0.95461,     0.95451,     0.95451,      0.9542,      0.9542,      0.9542,      0.9542,\n",
      "             0.9542,      0.9542,      0.9542,     0.95387,     0.95386,     0.95386,     0.95354,     0.95354,     0.95349,     0.95349,     0.95326,     0.95326,     0.95326,     0.95326,     0.95326,     0.95326,     0.95326,     0.95326,     0.95293,     0.95261,     0.95254,     0.95254,     0.95241,\n",
      "            0.95229,     0.95212,     0.95138,     0.95138,     0.95138,     0.95138,     0.95138,     0.95138,     0.95138,     0.95138,     0.95138,     0.95138,     0.95138,     0.95138,     0.95138,     0.95118,     0.95106,     0.95067,     0.95067,     0.95061,     0.95061,     0.95014,     0.95014,\n",
      "            0.95002,     0.94953,     0.94936,     0.94881,     0.94881,     0.94881,     0.94868,      0.9486,     0.94849,     0.94814,     0.94788,     0.94788,     0.94788,     0.94788,     0.94776,     0.94744,     0.94676,     0.94643,     0.94609,     0.94609,     0.94609,     0.94581,      0.9453,\n",
      "            0.94523,      0.9451,     0.94497,     0.94469,     0.94452,     0.94452,     0.94436,     0.94412,     0.94412,     0.94412,     0.94412,     0.94412,     0.94377,     0.94313,     0.94305,     0.94305,     0.94263,     0.94248,     0.94227,     0.94217,     0.94203,     0.94154,     0.94152,\n",
      "            0.94134,     0.94064,     0.94064,     0.94012,     0.94003,     0.94003,     0.94003,      0.9398,     0.93969,     0.93941,     0.93917,     0.93914,     0.93914,     0.93904,     0.93877,     0.93853,     0.93844,     0.93833,     0.93797,     0.93797,     0.93797,     0.93782,     0.93757,\n",
      "            0.93735,     0.93733,     0.93733,     0.93719,     0.93715,     0.93704,     0.93699,     0.93691,     0.93664,     0.93635,     0.93617,     0.93601,     0.93572,     0.93572,     0.93568,     0.93559,     0.93547,     0.93538,     0.93517,     0.93517,     0.93517,     0.93507,     0.93456,\n",
      "            0.93456,     0.93438,     0.93423,     0.93401,     0.93373,     0.93333,     0.93269,     0.93269,     0.93249,      0.9322,     0.93146,     0.93108,     0.93082,     0.92992,     0.92918,     0.92918,     0.92909,     0.92865,     0.92794,     0.92794,     0.92794,     0.92794,     0.92794,\n",
      "            0.92794,     0.92726,     0.92673,     0.92673,     0.92673,     0.92624,     0.92611,     0.92591,     0.92554,     0.92547,     0.92508,     0.92492,     0.92474,     0.92465,     0.92457,     0.92425,     0.92413,     0.92392,     0.92309,     0.92237,     0.92202,     0.92187,     0.92187,\n",
      "            0.92187,      0.9215,     0.92061,     0.92036,     0.92014,     0.91994,     0.91955,     0.91889,     0.91856,     0.91823,     0.91785,     0.91719,     0.91642,     0.91563,     0.91512,     0.91467,     0.91457,     0.91439,     0.91376,     0.91345,     0.91235,     0.91193,     0.91172,\n",
      "            0.91111,     0.91088,     0.91064,     0.91054,     0.91018,     0.90975,     0.90927,     0.90837,     0.90763,     0.90729,     0.90672,     0.90642,     0.90629,     0.90607,     0.90601,     0.90552,     0.90552,     0.90465,     0.90367,     0.90334,     0.90261,     0.90091,     0.89931,\n",
      "            0.89895,     0.89809,     0.89725,     0.89683,     0.89627,      0.8961,     0.89338,     0.89312,     0.89271,      0.8924,     0.89186,     0.89118,     0.89039,     0.88984,      0.8897,      0.8897,      0.8893,     0.88851,     0.88826,     0.88783,     0.88691,     0.88547,      0.8854,\n",
      "            0.88522,     0.88419,     0.88367,     0.88329,     0.88293,     0.88281,     0.88252,     0.88209,     0.88166,     0.88012,      0.8795,     0.87864,     0.87753,     0.87638,      0.8752,      0.8747,     0.87393,     0.87283,     0.87148,     0.87088,     0.86994,     0.86909,     0.86682,\n",
      "            0.86581,     0.86528,     0.86366,     0.86222,     0.86094,     0.86074,     0.85923,     0.85818,     0.85659,     0.85603,     0.85448,     0.85334,     0.85247,     0.85156,     0.84978,     0.84855,     0.84746,     0.84502,     0.84393,     0.84268,     0.84191,     0.83908,     0.83781,\n",
      "            0.83644,     0.83464,     0.83292,     0.83173,     0.82964,     0.82866,     0.82796,     0.82737,     0.82479,     0.82276,     0.82097,     0.81894,     0.81695,     0.81395,     0.81271,      0.8117,     0.81015,     0.80802,     0.80599,     0.80509,      0.8033,     0.80241,     0.79985,\n",
      "            0.79837,     0.79636,     0.79425,     0.79313,     0.79121,     0.78913,     0.78548,     0.78324,      0.7815,      0.7795,     0.77362,     0.77194,     0.77042,     0.76942,     0.76691,     0.76578,     0.76137,     0.75762,     0.75451,     0.75182,     0.74894,     0.74534,     0.74244,\n",
      "            0.74112,     0.73769,     0.73328,     0.73071,     0.72926,     0.72223,      0.7204,      0.7184,     0.71246,     0.70821,     0.70614,     0.70239,     0.70086,     0.69672,     0.69305,     0.68818,     0.68363,     0.67862,     0.67349,     0.67122,     0.66861,      0.6641,     0.66156,\n",
      "            0.65839,     0.65513,     0.65188,     0.64939,     0.64168,       0.637,     0.63396,     0.62988,     0.62397,     0.62053,     0.61789,     0.61528,     0.61094,     0.60646,      0.6001,     0.58828,     0.58392,     0.57785,      0.5703,     0.56606,     0.55875,     0.55391,     0.54655,\n",
      "            0.54157,     0.53775,     0.53057,     0.52802,     0.52395,     0.52029,     0.51733,     0.50874,     0.49983,     0.49251,     0.48648,     0.47865,     0.47492,     0.47042,     0.45758,     0.45232,     0.43856,      0.4336,     0.42894,     0.42463,     0.41949,     0.41207,     0.40235,\n",
      "            0.39847,     0.38857,     0.38488,     0.37494,     0.37249,     0.36069,     0.35144,     0.34054,     0.33213,     0.32751,     0.32387,     0.31158,     0.30547,     0.29037,     0.28301,      0.2771,     0.27471,     0.26329,     0.25596,     0.24976,     0.24525,      0.2375,     0.22882,\n",
      "            0.21378,     0.20954,     0.20347,     0.19491,     0.18843,     0.18009,     0.17126,     0.15914,     0.14893,      0.1399,     0.13376,     0.12817,     0.11859,     0.10471,    0.097593,    0.092919,    0.084917,    0.079438,    0.073829,    0.071886,    0.069943,       0.068,    0.066057,\n",
      "           0.064114,    0.062172,    0.060229,    0.058286,    0.056343,      0.0544,    0.052457,    0.050514,    0.048571,    0.046629,    0.044686,    0.042743,      0.0408,    0.038857,    0.036914,    0.034971,    0.033029,    0.031086,    0.029143,      0.0272,    0.025257,    0.023314,    0.021371,\n",
      "           0.019429,    0.017486,    0.015543,      0.0136,    0.011657,   0.0097143,   0.0077714,   0.0058286,   0.0038857,   0.0019429,           0]]), 'Recall', 'Precision'], [array([          0,    0.001001,    0.002002,    0.003003,    0.004004,    0.005005,    0.006006,    0.007007,    0.008008,    0.009009,     0.01001,    0.011011,    0.012012,    0.013013,    0.014014,    0.015015,    0.016016,    0.017017,    0.018018,    0.019019,     0.02002,    0.021021,    0.022022,    0.023023,\n",
      "          0.024024,    0.025025,    0.026026,    0.027027,    0.028028,    0.029029,     0.03003,    0.031031,    0.032032,    0.033033,    0.034034,    0.035035,    0.036036,    0.037037,    0.038038,    0.039039,     0.04004,    0.041041,    0.042042,    0.043043,    0.044044,    0.045045,    0.046046,    0.047047,\n",
      "          0.048048,    0.049049,     0.05005,    0.051051,    0.052052,    0.053053,    0.054054,    0.055055,    0.056056,    0.057057,    0.058058,    0.059059,     0.06006,    0.061061,    0.062062,    0.063063,    0.064064,    0.065065,    0.066066,    0.067067,    0.068068,    0.069069,     0.07007,    0.071071,\n",
      "          0.072072,    0.073073,    0.074074,    0.075075,    0.076076,    0.077077,    0.078078,    0.079079,     0.08008,    0.081081,    0.082082,    0.083083,    0.084084,    0.085085,    0.086086,    0.087087,    0.088088,    0.089089,     0.09009,    0.091091,    0.092092,    0.093093,    0.094094,    0.095095,\n",
      "          0.096096,    0.097097,    0.098098,    0.099099,      0.1001,      0.1011,      0.1021,      0.1031,      0.1041,     0.10511,     0.10611,     0.10711,     0.10811,     0.10911,     0.11011,     0.11111,     0.11211,     0.11311,     0.11411,     0.11512,     0.11612,     0.11712,     0.11812,     0.11912,\n",
      "           0.12012,     0.12112,     0.12212,     0.12312,     0.12412,     0.12513,     0.12613,     0.12713,     0.12813,     0.12913,     0.13013,     0.13113,     0.13213,     0.13313,     0.13413,     0.13514,     0.13614,     0.13714,     0.13814,     0.13914,     0.14014,     0.14114,     0.14214,     0.14314,\n",
      "           0.14414,     0.14515,     0.14615,     0.14715,     0.14815,     0.14915,     0.15015,     0.15115,     0.15215,     0.15315,     0.15415,     0.15516,     0.15616,     0.15716,     0.15816,     0.15916,     0.16016,     0.16116,     0.16216,     0.16316,     0.16416,     0.16517,     0.16617,     0.16717,\n",
      "           0.16817,     0.16917,     0.17017,     0.17117,     0.17217,     0.17317,     0.17417,     0.17518,     0.17618,     0.17718,     0.17818,     0.17918,     0.18018,     0.18118,     0.18218,     0.18318,     0.18418,     0.18519,     0.18619,     0.18719,     0.18819,     0.18919,     0.19019,     0.19119,\n",
      "           0.19219,     0.19319,     0.19419,      0.1952,      0.1962,      0.1972,      0.1982,      0.1992,      0.2002,      0.2012,      0.2022,      0.2032,      0.2042,     0.20521,     0.20621,     0.20721,     0.20821,     0.20921,     0.21021,     0.21121,     0.21221,     0.21321,     0.21421,     0.21522,\n",
      "           0.21622,     0.21722,     0.21822,     0.21922,     0.22022,     0.22122,     0.22222,     0.22322,     0.22422,     0.22523,     0.22623,     0.22723,     0.22823,     0.22923,     0.23023,     0.23123,     0.23223,     0.23323,     0.23423,     0.23524,     0.23624,     0.23724,     0.23824,     0.23924,\n",
      "           0.24024,     0.24124,     0.24224,     0.24324,     0.24424,     0.24525,     0.24625,     0.24725,     0.24825,     0.24925,     0.25025,     0.25125,     0.25225,     0.25325,     0.25425,     0.25526,     0.25626,     0.25726,     0.25826,     0.25926,     0.26026,     0.26126,     0.26226,     0.26326,\n",
      "           0.26426,     0.26527,     0.26627,     0.26727,     0.26827,     0.26927,     0.27027,     0.27127,     0.27227,     0.27327,     0.27427,     0.27528,     0.27628,     0.27728,     0.27828,     0.27928,     0.28028,     0.28128,     0.28228,     0.28328,     0.28428,     0.28529,     0.28629,     0.28729,\n",
      "           0.28829,     0.28929,     0.29029,     0.29129,     0.29229,     0.29329,     0.29429,      0.2953,      0.2963,      0.2973,      0.2983,      0.2993,      0.3003,      0.3013,      0.3023,      0.3033,      0.3043,     0.30531,     0.30631,     0.30731,     0.30831,     0.30931,     0.31031,     0.31131,\n",
      "           0.31231,     0.31331,     0.31431,     0.31532,     0.31632,     0.31732,     0.31832,     0.31932,     0.32032,     0.32132,     0.32232,     0.32332,     0.32432,     0.32533,     0.32633,     0.32733,     0.32833,     0.32933,     0.33033,     0.33133,     0.33233,     0.33333,     0.33433,     0.33534,\n",
      "           0.33634,     0.33734,     0.33834,     0.33934,     0.34034,     0.34134,     0.34234,     0.34334,     0.34434,     0.34535,     0.34635,     0.34735,     0.34835,     0.34935,     0.35035,     0.35135,     0.35235,     0.35335,     0.35435,     0.35536,     0.35636,     0.35736,     0.35836,     0.35936,\n",
      "           0.36036,     0.36136,     0.36236,     0.36336,     0.36436,     0.36537,     0.36637,     0.36737,     0.36837,     0.36937,     0.37037,     0.37137,     0.37237,     0.37337,     0.37437,     0.37538,     0.37638,     0.37738,     0.37838,     0.37938,     0.38038,     0.38138,     0.38238,     0.38338,\n",
      "           0.38438,     0.38539,     0.38639,     0.38739,     0.38839,     0.38939,     0.39039,     0.39139,     0.39239,     0.39339,     0.39439,      0.3954,      0.3964,      0.3974,      0.3984,      0.3994,      0.4004,      0.4014,      0.4024,      0.4034,      0.4044,     0.40541,     0.40641,     0.40741,\n",
      "           0.40841,     0.40941,     0.41041,     0.41141,     0.41241,     0.41341,     0.41441,     0.41542,     0.41642,     0.41742,     0.41842,     0.41942,     0.42042,     0.42142,     0.42242,     0.42342,     0.42442,     0.42543,     0.42643,     0.42743,     0.42843,     0.42943,     0.43043,     0.43143,\n",
      "           0.43243,     0.43343,     0.43443,     0.43544,     0.43644,     0.43744,     0.43844,     0.43944,     0.44044,     0.44144,     0.44244,     0.44344,     0.44444,     0.44545,     0.44645,     0.44745,     0.44845,     0.44945,     0.45045,     0.45145,     0.45245,     0.45345,     0.45445,     0.45546,\n",
      "           0.45646,     0.45746,     0.45846,     0.45946,     0.46046,     0.46146,     0.46246,     0.46346,     0.46446,     0.46547,     0.46647,     0.46747,     0.46847,     0.46947,     0.47047,     0.47147,     0.47247,     0.47347,     0.47447,     0.47548,     0.47648,     0.47748,     0.47848,     0.47948,\n",
      "           0.48048,     0.48148,     0.48248,     0.48348,     0.48448,     0.48549,     0.48649,     0.48749,     0.48849,     0.48949,     0.49049,     0.49149,     0.49249,     0.49349,     0.49449,      0.4955,      0.4965,      0.4975,      0.4985,      0.4995,      0.5005,      0.5015,      0.5025,      0.5035,\n",
      "            0.5045,     0.50551,     0.50651,     0.50751,     0.50851,     0.50951,     0.51051,     0.51151,     0.51251,     0.51351,     0.51451,     0.51552,     0.51652,     0.51752,     0.51852,     0.51952,     0.52052,     0.52152,     0.52252,     0.52352,     0.52452,     0.52553,     0.52653,     0.52753,\n",
      "           0.52853,     0.52953,     0.53053,     0.53153,     0.53253,     0.53353,     0.53453,     0.53554,     0.53654,     0.53754,     0.53854,     0.53954,     0.54054,     0.54154,     0.54254,     0.54354,     0.54454,     0.54555,     0.54655,     0.54755,     0.54855,     0.54955,     0.55055,     0.55155,\n",
      "           0.55255,     0.55355,     0.55455,     0.55556,     0.55656,     0.55756,     0.55856,     0.55956,     0.56056,     0.56156,     0.56256,     0.56356,     0.56456,     0.56557,     0.56657,     0.56757,     0.56857,     0.56957,     0.57057,     0.57157,     0.57257,     0.57357,     0.57457,     0.57558,\n",
      "           0.57658,     0.57758,     0.57858,     0.57958,     0.58058,     0.58158,     0.58258,     0.58358,     0.58458,     0.58559,     0.58659,     0.58759,     0.58859,     0.58959,     0.59059,     0.59159,     0.59259,     0.59359,     0.59459,      0.5956,      0.5966,      0.5976,      0.5986,      0.5996,\n",
      "            0.6006,      0.6016,      0.6026,      0.6036,      0.6046,     0.60561,     0.60661,     0.60761,     0.60861,     0.60961,     0.61061,     0.61161,     0.61261,     0.61361,     0.61461,     0.61562,     0.61662,     0.61762,     0.61862,     0.61962,     0.62062,     0.62162,     0.62262,     0.62362,\n",
      "           0.62462,     0.62563,     0.62663,     0.62763,     0.62863,     0.62963,     0.63063,     0.63163,     0.63263,     0.63363,     0.63463,     0.63564,     0.63664,     0.63764,     0.63864,     0.63964,     0.64064,     0.64164,     0.64264,     0.64364,     0.64464,     0.64565,     0.64665,     0.64765,\n",
      "           0.64865,     0.64965,     0.65065,     0.65165,     0.65265,     0.65365,     0.65465,     0.65566,     0.65666,     0.65766,     0.65866,     0.65966,     0.66066,     0.66166,     0.66266,     0.66366,     0.66466,     0.66567,     0.66667,     0.66767,     0.66867,     0.66967,     0.67067,     0.67167,\n",
      "           0.67267,     0.67367,     0.67467,     0.67568,     0.67668,     0.67768,     0.67868,     0.67968,     0.68068,     0.68168,     0.68268,     0.68368,     0.68468,     0.68569,     0.68669,     0.68769,     0.68869,     0.68969,     0.69069,     0.69169,     0.69269,     0.69369,     0.69469,      0.6957,\n",
      "            0.6967,      0.6977,      0.6987,      0.6997,      0.7007,      0.7017,      0.7027,      0.7037,      0.7047,     0.70571,     0.70671,     0.70771,     0.70871,     0.70971,     0.71071,     0.71171,     0.71271,     0.71371,     0.71471,     0.71572,     0.71672,     0.71772,     0.71872,     0.71972,\n",
      "           0.72072,     0.72172,     0.72272,     0.72372,     0.72472,     0.72573,     0.72673,     0.72773,     0.72873,     0.72973,     0.73073,     0.73173,     0.73273,     0.73373,     0.73473,     0.73574,     0.73674,     0.73774,     0.73874,     0.73974,     0.74074,     0.74174,     0.74274,     0.74374,\n",
      "           0.74474,     0.74575,     0.74675,     0.74775,     0.74875,     0.74975,     0.75075,     0.75175,     0.75275,     0.75375,     0.75475,     0.75576,     0.75676,     0.75776,     0.75876,     0.75976,     0.76076,     0.76176,     0.76276,     0.76376,     0.76476,     0.76577,     0.76677,     0.76777,\n",
      "           0.76877,     0.76977,     0.77077,     0.77177,     0.77277,     0.77377,     0.77477,     0.77578,     0.77678,     0.77778,     0.77878,     0.77978,     0.78078,     0.78178,     0.78278,     0.78378,     0.78478,     0.78579,     0.78679,     0.78779,     0.78879,     0.78979,     0.79079,     0.79179,\n",
      "           0.79279,     0.79379,     0.79479,      0.7958,      0.7968,      0.7978,      0.7988,      0.7998,      0.8008,      0.8018,      0.8028,      0.8038,      0.8048,     0.80581,     0.80681,     0.80781,     0.80881,     0.80981,     0.81081,     0.81181,     0.81281,     0.81381,     0.81481,     0.81582,\n",
      "           0.81682,     0.81782,     0.81882,     0.81982,     0.82082,     0.82182,     0.82282,     0.82382,     0.82482,     0.82583,     0.82683,     0.82783,     0.82883,     0.82983,     0.83083,     0.83183,     0.83283,     0.83383,     0.83483,     0.83584,     0.83684,     0.83784,     0.83884,     0.83984,\n",
      "           0.84084,     0.84184,     0.84284,     0.84384,     0.84484,     0.84585,     0.84685,     0.84785,     0.84885,     0.84985,     0.85085,     0.85185,     0.85285,     0.85385,     0.85485,     0.85586,     0.85686,     0.85786,     0.85886,     0.85986,     0.86086,     0.86186,     0.86286,     0.86386,\n",
      "           0.86486,     0.86587,     0.86687,     0.86787,     0.86887,     0.86987,     0.87087,     0.87187,     0.87287,     0.87387,     0.87487,     0.87588,     0.87688,     0.87788,     0.87888,     0.87988,     0.88088,     0.88188,     0.88288,     0.88388,     0.88488,     0.88589,     0.88689,     0.88789,\n",
      "           0.88889,     0.88989,     0.89089,     0.89189,     0.89289,     0.89389,     0.89489,      0.8959,      0.8969,      0.8979,      0.8989,      0.8999,      0.9009,      0.9019,      0.9029,      0.9039,      0.9049,     0.90591,     0.90691,     0.90791,     0.90891,     0.90991,     0.91091,     0.91191,\n",
      "           0.91291,     0.91391,     0.91491,     0.91592,     0.91692,     0.91792,     0.91892,     0.91992,     0.92092,     0.92192,     0.92292,     0.92392,     0.92492,     0.92593,     0.92693,     0.92793,     0.92893,     0.92993,     0.93093,     0.93193,     0.93293,     0.93393,     0.93493,     0.93594,\n",
      "           0.93694,     0.93794,     0.93894,     0.93994,     0.94094,     0.94194,     0.94294,     0.94394,     0.94494,     0.94595,     0.94695,     0.94795,     0.94895,     0.94995,     0.95095,     0.95195,     0.95295,     0.95395,     0.95495,     0.95596,     0.95696,     0.95796,     0.95896,     0.95996,\n",
      "           0.96096,     0.96196,     0.96296,     0.96396,     0.96496,     0.96597,     0.96697,     0.96797,     0.96897,     0.96997,     0.97097,     0.97197,     0.97297,     0.97397,     0.97497,     0.97598,     0.97698,     0.97798,     0.97898,     0.97998,     0.98098,     0.98198,     0.98298,     0.98398,\n",
      "           0.98498,     0.98599,     0.98699,     0.98799,     0.98899,     0.98999,     0.99099,     0.99199,     0.99299,     0.99399,     0.99499,       0.996,       0.997,       0.998,       0.999,           1]), array([[    0.13892,     0.13898,     0.19651,     0.23935,     0.27439,     0.30398,     0.32912,     0.35108,     0.37156,     0.38876,      0.4048,     0.41974,     0.43334,     0.44658,     0.45843,     0.46994,     0.48053,     0.48944,     0.49815,     0.50653,     0.51478,     0.52247,     0.53009,\n",
      "            0.53679,       0.543,      0.5499,     0.55582,       0.561,     0.56681,     0.57148,     0.57735,      0.5818,     0.58602,     0.59057,     0.59446,     0.59859,     0.60256,     0.60647,     0.60983,      0.6134,     0.61748,     0.62121,     0.62416,     0.62728,     0.63045,     0.63349,\n",
      "             0.6362,     0.63891,       0.642,     0.64476,      0.6479,     0.65106,     0.65378,     0.65665,     0.65914,     0.66143,     0.66399,     0.66608,     0.66798,     0.67061,      0.6727,     0.67468,     0.67594,     0.67821,      0.6802,     0.68244,     0.68415,     0.68587,     0.68791,\n",
      "             0.6893,     0.69114,     0.69306,     0.69517,     0.69655,     0.69851,     0.70023,     0.70153,      0.7029,     0.70446,     0.70532,     0.70659,     0.70802,     0.70967,      0.7113,     0.71307,     0.71451,     0.71615,     0.71752,     0.71869,     0.72044,     0.72142,      0.7227,\n",
      "            0.72364,     0.72482,     0.72591,     0.72694,     0.72798,     0.72903,     0.73024,     0.73088,     0.73168,     0.73259,     0.73367,     0.73489,     0.73602,     0.73702,     0.73831,     0.73876,     0.73953,     0.74006,     0.74111,     0.74268,      0.7439,     0.74473,     0.74545,\n",
      "            0.74638,       0.747,      0.7477,     0.74854,     0.74928,     0.75054,     0.75136,     0.75207,     0.75271,     0.75328,     0.75403,     0.75482,      0.7556,     0.75656,     0.75718,     0.75764,     0.75819,     0.75863,     0.75937,     0.76023,     0.76101,     0.76154,     0.76207,\n",
      "            0.76283,     0.76359,     0.76449,     0.76512,     0.76564,     0.76655,     0.76705,      0.7676,     0.76796,     0.76897,     0.76982,     0.77045,     0.77123,     0.77153,     0.77219,     0.77282,      0.7736,     0.77395,     0.77424,     0.77492,     0.77552,     0.77626,     0.77625,\n",
      "            0.77657,      0.7771,     0.77787,     0.77865,      0.7791,     0.77933,     0.77979,     0.78022,     0.78103,     0.78182,     0.78233,      0.7826,       0.783,     0.78327,     0.78364,     0.78427,     0.78484,     0.78555,     0.78635,     0.78676,     0.78725,     0.78756,     0.78778,\n",
      "            0.78803,     0.78837,     0.78869,     0.78902,     0.78956,      0.7904,     0.79072,     0.79164,     0.79199,     0.79233,      0.7926,     0.79269,     0.79329,     0.79349,     0.79386,     0.79419,     0.79455,     0.79513,     0.79567,     0.79577,     0.79603,     0.79666,     0.79697,\n",
      "            0.79761,     0.79803,     0.79832,     0.79854,     0.79911,     0.79952,     0.79995,     0.80046,     0.80082,     0.80098,     0.80156,      0.8021,     0.80218,     0.80272,      0.8029,     0.80314,     0.80345,     0.80369,     0.80405,     0.80418,     0.80413,     0.80403,     0.80452,\n",
      "            0.80461,     0.80508,     0.80545,     0.80602,     0.80641,      0.8068,     0.80735,     0.80764,     0.80774,     0.80805,     0.80815,     0.80802,      0.8086,     0.80866,     0.80911,     0.80922,     0.80953,     0.80984,     0.81017,     0.81063,     0.81085,     0.81094,     0.81131,\n",
      "             0.8115,     0.81173,     0.81197,     0.81201,     0.81207,     0.81196,     0.81202,      0.8126,     0.81262,     0.81308,     0.81344,     0.81328,     0.81321,     0.81362,      0.8139,     0.81414,     0.81433,     0.81435,     0.81444,     0.81443,     0.81449,      0.8147,     0.81482,\n",
      "            0.81479,     0.81488,      0.8152,     0.81534,     0.81546,     0.81559,     0.81573,     0.81586,     0.81584,     0.81615,     0.81646,     0.81648,      0.8163,     0.81612,     0.81638,     0.81628,     0.81663,     0.81703,     0.81736,     0.81729,      0.8175,     0.81762,     0.81788,\n",
      "            0.81782,     0.81799,     0.81812,     0.81846,     0.81842,     0.81873,     0.81869,      0.8188,     0.81913,     0.81914,     0.81923,     0.81942,     0.81964,     0.81992,     0.81995,     0.81989,     0.81979,     0.81982,     0.81972,     0.81977,     0.81964,     0.81954,     0.81963,\n",
      "            0.82002,     0.82009,     0.82021,     0.82032,     0.82029,     0.82039,     0.82038,     0.82053,     0.82069,     0.82088,      0.8208,     0.82087,       0.821,     0.82095,     0.82112,     0.82107,     0.82112,     0.82109,     0.82111,     0.82146,     0.82187,     0.82172,     0.82181,\n",
      "            0.82174,      0.8218,     0.82189,     0.82205,     0.82243,     0.82245,     0.82234,     0.82224,     0.82258,     0.82262,     0.82258,     0.82245,     0.82255,     0.82265,      0.8227,     0.82266,     0.82262,      0.8226,     0.82256,     0.82264,     0.82235,     0.82263,     0.82278,\n",
      "             0.8226,     0.82253,     0.82219,     0.82246,     0.82227,     0.82237,     0.82246,     0.82253,     0.82241,     0.82256,     0.82239,     0.82227,      0.8223,     0.82228,     0.82217,     0.82233,     0.82245,     0.82249,     0.82253,     0.82253,      0.8225,     0.82222,     0.82202,\n",
      "            0.82213,     0.82223,     0.82246,     0.82241,     0.82249,     0.82233,     0.82246,     0.82235,     0.82214,     0.82206,     0.82178,     0.82188,     0.82192,     0.82191,     0.82197,       0.822,      0.8217,     0.82136,     0.82143,      0.8214,     0.82136,     0.82131,     0.82142,\n",
      "            0.82115,     0.82127,      0.8212,      0.8211,      0.8208,     0.82066,     0.82068,     0.82082,     0.82087,     0.82077,     0.82063,     0.82034,     0.82018,     0.81998,     0.81943,     0.81915,     0.81889,     0.81862,     0.81838,     0.81818,     0.81801,     0.81769,     0.81753,\n",
      "            0.81761,     0.81755,     0.81743,     0.81659,     0.81654,     0.81669,     0.81643,     0.81644,     0.81593,     0.81552,     0.81551,     0.81526,      0.8149,      0.8141,     0.81379,     0.81344,     0.81344,     0.81314,     0.81305,     0.81301,     0.81249,     0.81246,     0.81223,\n",
      "            0.81192,     0.81173,     0.81168,     0.81111,     0.81102,     0.81105,     0.81143,     0.81147,     0.81121,     0.81112,     0.81072,     0.81069,     0.81037,      0.8102,     0.81006,     0.80979,     0.80988,     0.80935,     0.80915,     0.80935,     0.80933,     0.80939,     0.80944,\n",
      "            0.80923,     0.80916,     0.80898,     0.80875,     0.80843,      0.8083,     0.80831,      0.8081,     0.80776,     0.80743,     0.80713,     0.80673,     0.80567,     0.80565,     0.80534,     0.80513,     0.80456,     0.80425,     0.80408,     0.80407,     0.80367,     0.80351,     0.80322,\n",
      "            0.80306,     0.80251,     0.80181,     0.80103,     0.80091,     0.80018,     0.80009,     0.79992,     0.79945,     0.79917,     0.79904,     0.79904,     0.79827,      0.7979,     0.79731,     0.79661,     0.79666,     0.79616,     0.79585,     0.79549,     0.79515,     0.79505,     0.79493,\n",
      "            0.79445,     0.79415,     0.79386,     0.79345,     0.79316,      0.7927,     0.79237,     0.79209,      0.7919,      0.7912,     0.79082,     0.79053,     0.79016,     0.78974,     0.78898,      0.7884,     0.78792,     0.78776,     0.78722,      0.7871,     0.78673,     0.78667,     0.78594,\n",
      "            0.78565,      0.7852,     0.78484,     0.78452,     0.78373,     0.78288,     0.78256,     0.78209,     0.78128,     0.78067,     0.78002,     0.77957,     0.77896,     0.77878,     0.77761,     0.77723,     0.77683,     0.77647,     0.77563,     0.77535,      0.7745,     0.77375,     0.77284,\n",
      "            0.77274,     0.77252,     0.77195,     0.77138,      0.7707,     0.77028,     0.76977,     0.76936,     0.76872,     0.76865,     0.76818,     0.76745,     0.76659,     0.76604,     0.76516,     0.76435,     0.76345,     0.76229,     0.76145,     0.76068,     0.76021,     0.75922,     0.75867,\n",
      "            0.75786,     0.75666,     0.75578,     0.75498,     0.75389,     0.75335,     0.75259,     0.75159,      0.7505,     0.74933,     0.74816,     0.74723,     0.74668,     0.74558,     0.74439,     0.74354,     0.74275,     0.74192,      0.7409,     0.74015,     0.73938,      0.7385,     0.73796,\n",
      "             0.7375,     0.73642,     0.73556,     0.73419,     0.73285,     0.73186,     0.73128,     0.73048,     0.72904,      0.7276,     0.72683,     0.72546,     0.72446,     0.72331,     0.72253,     0.72112,     0.71994,     0.71901,     0.71785,     0.71689,     0.71592,     0.71457,     0.71361,\n",
      "            0.71162,     0.71072,     0.70962,     0.70814,     0.70636,     0.70511,     0.70428,     0.70269,     0.70159,     0.70049,     0.69906,     0.69751,     0.69563,     0.69488,     0.69339,     0.69177,     0.68958,     0.68823,     0.68725,     0.68585,     0.68329,     0.68157,     0.68046,\n",
      "            0.67801,     0.67621,     0.67461,     0.67315,     0.67205,     0.67043,     0.66925,     0.66704,     0.66463,     0.66295,     0.66083,     0.65867,      0.6573,     0.65545,     0.65389,     0.65128,     0.64869,     0.64676,     0.64491,     0.64213,     0.63979,     0.63809,     0.63682,\n",
      "             0.6343,     0.63171,     0.62858,     0.62593,     0.62297,     0.62041,     0.61694,      0.6146,     0.61216,      0.6095,     0.60816,     0.60499,     0.60189,     0.59958,     0.59653,     0.59366,     0.59097,     0.58813,     0.58547,     0.58198,     0.57851,     0.57536,     0.57152,\n",
      "            0.56842,     0.56455,     0.56112,     0.55871,     0.55478,     0.55077,     0.54733,     0.54331,     0.53963,     0.53557,     0.53068,     0.52493,     0.52023,     0.51545,     0.51099,     0.50731,     0.50165,     0.49608,     0.49061,     0.48578,     0.48036,     0.47659,     0.47069,\n",
      "            0.46521,     0.46049,     0.45626,     0.45148,     0.44594,     0.43985,     0.43473,     0.42892,     0.42341,     0.41772,     0.41147,      0.4057,     0.39975,     0.39412,     0.38856,     0.38255,      0.3776,     0.37196,     0.36652,     0.36261,     0.35461,     0.34779,     0.34218,\n",
      "            0.33673,     0.32984,     0.32186,     0.31559,     0.30645,     0.30226,     0.29675,     0.28819,     0.28332,     0.27677,     0.27242,     0.26754,     0.26182,     0.25579,     0.24927,       0.244,     0.23685,     0.23049,     0.22542,     0.22117,     0.21635,     0.21055,     0.20451,\n",
      "              0.201,     0.19608,     0.19104,     0.18428,     0.18071,     0.17598,     0.17053,     0.16593,     0.16286,     0.15781,     0.15454,     0.15065,     0.14661,     0.14154,     0.13812,     0.13615,     0.13189,     0.12911,      0.1247,      0.1212,     0.11833,      0.1167,     0.11472,\n",
      "            0.11254,     0.11008,     0.10658,     0.10379,     0.10021,    0.098002,    0.094307,    0.092898,    0.090216,    0.086873,    0.083936,    0.081638,    0.079613,    0.077898,    0.074926,    0.072465,     0.07023,    0.068529,    0.065904,    0.062699,    0.061187,    0.060036,    0.057798,\n",
      "           0.056226,    0.054312,     0.05306,    0.051468,    0.049326,     0.04755,    0.045537,    0.044465,    0.043341,    0.042686,     0.04034,    0.038909,    0.038456,    0.037309,    0.036064,    0.035022,    0.034626,    0.033284,    0.031166,    0.030655,    0.029886,    0.029655,    0.028274,\n",
      "           0.026931,    0.025763,    0.024816,    0.024232,    0.023324,    0.021701,    0.021217,     0.02073,    0.020386,    0.018542,    0.017563,    0.016839,    0.016205,    0.015413,    0.014385,    0.013451,    0.012512,    0.012303,    0.011917,    0.011145,    0.010619,   0.0094884,   0.0091591,\n",
      "          0.0086068,   0.0079025,   0.0073664,   0.0070285,   0.0069476,   0.0068667,   0.0064398,   0.0061733,   0.0059679,   0.0055535,   0.0054222,   0.0052879,   0.0049745,   0.0044302,   0.0036609,   0.0034907,     0.00342,   0.0033492,   0.0032557,    0.002783,    0.002687,   0.0025947,   0.0024915,\n",
      "          0.0023566,   0.0021369,   0.0018719,   0.0014055,   0.0012484,   0.0012199,   0.0011914,   0.0011629,   0.0011344,   0.0011059,   0.0010775,    0.001049,   0.0010205,  0.00090721,  0.00075779,  0.00073577,  0.00071374,  0.00069172,   0.0006697,  0.00064768,  0.00062565,  0.00060363,   0.0005816,\n",
      "         0.00055958,  0.00053755,  0.00051552,  0.00048233,  0.00044023,  0.00039814,  0.00035604,  0.00031393,  0.00027183,           0,           0,           0,           0,           0,           0,           0,           0,           0,           0,           0,           0,           0,           0,\n",
      "                  0,           0,           0,           0,           0,           0,           0,           0,           0,           0,           0,           0,           0,           0,           0,           0,           0,           0,           0,           0,           0,           0,           0,\n",
      "                  0,           0,           0,           0,           0,           0,           0,           0,           0,           0,           0,           0,           0,           0,           0,           0,           0,           0,           0,           0,           0,           0,           0,\n",
      "                  0,           0,           0,           0,           0,           0,           0,           0,           0,           0,           0]]), 'Confidence', 'F1'], [array([          0,    0.001001,    0.002002,    0.003003,    0.004004,    0.005005,    0.006006,    0.007007,    0.008008,    0.009009,     0.01001,    0.011011,    0.012012,    0.013013,    0.014014,    0.015015,    0.016016,    0.017017,    0.018018,    0.019019,     0.02002,    0.021021,    0.022022,    0.023023,\n",
      "          0.024024,    0.025025,    0.026026,    0.027027,    0.028028,    0.029029,     0.03003,    0.031031,    0.032032,    0.033033,    0.034034,    0.035035,    0.036036,    0.037037,    0.038038,    0.039039,     0.04004,    0.041041,    0.042042,    0.043043,    0.044044,    0.045045,    0.046046,    0.047047,\n",
      "          0.048048,    0.049049,     0.05005,    0.051051,    0.052052,    0.053053,    0.054054,    0.055055,    0.056056,    0.057057,    0.058058,    0.059059,     0.06006,    0.061061,    0.062062,    0.063063,    0.064064,    0.065065,    0.066066,    0.067067,    0.068068,    0.069069,     0.07007,    0.071071,\n",
      "          0.072072,    0.073073,    0.074074,    0.075075,    0.076076,    0.077077,    0.078078,    0.079079,     0.08008,    0.081081,    0.082082,    0.083083,    0.084084,    0.085085,    0.086086,    0.087087,    0.088088,    0.089089,     0.09009,    0.091091,    0.092092,    0.093093,    0.094094,    0.095095,\n",
      "          0.096096,    0.097097,    0.098098,    0.099099,      0.1001,      0.1011,      0.1021,      0.1031,      0.1041,     0.10511,     0.10611,     0.10711,     0.10811,     0.10911,     0.11011,     0.11111,     0.11211,     0.11311,     0.11411,     0.11512,     0.11612,     0.11712,     0.11812,     0.11912,\n",
      "           0.12012,     0.12112,     0.12212,     0.12312,     0.12412,     0.12513,     0.12613,     0.12713,     0.12813,     0.12913,     0.13013,     0.13113,     0.13213,     0.13313,     0.13413,     0.13514,     0.13614,     0.13714,     0.13814,     0.13914,     0.14014,     0.14114,     0.14214,     0.14314,\n",
      "           0.14414,     0.14515,     0.14615,     0.14715,     0.14815,     0.14915,     0.15015,     0.15115,     0.15215,     0.15315,     0.15415,     0.15516,     0.15616,     0.15716,     0.15816,     0.15916,     0.16016,     0.16116,     0.16216,     0.16316,     0.16416,     0.16517,     0.16617,     0.16717,\n",
      "           0.16817,     0.16917,     0.17017,     0.17117,     0.17217,     0.17317,     0.17417,     0.17518,     0.17618,     0.17718,     0.17818,     0.17918,     0.18018,     0.18118,     0.18218,     0.18318,     0.18418,     0.18519,     0.18619,     0.18719,     0.18819,     0.18919,     0.19019,     0.19119,\n",
      "           0.19219,     0.19319,     0.19419,      0.1952,      0.1962,      0.1972,      0.1982,      0.1992,      0.2002,      0.2012,      0.2022,      0.2032,      0.2042,     0.20521,     0.20621,     0.20721,     0.20821,     0.20921,     0.21021,     0.21121,     0.21221,     0.21321,     0.21421,     0.21522,\n",
      "           0.21622,     0.21722,     0.21822,     0.21922,     0.22022,     0.22122,     0.22222,     0.22322,     0.22422,     0.22523,     0.22623,     0.22723,     0.22823,     0.22923,     0.23023,     0.23123,     0.23223,     0.23323,     0.23423,     0.23524,     0.23624,     0.23724,     0.23824,     0.23924,\n",
      "           0.24024,     0.24124,     0.24224,     0.24324,     0.24424,     0.24525,     0.24625,     0.24725,     0.24825,     0.24925,     0.25025,     0.25125,     0.25225,     0.25325,     0.25425,     0.25526,     0.25626,     0.25726,     0.25826,     0.25926,     0.26026,     0.26126,     0.26226,     0.26326,\n",
      "           0.26426,     0.26527,     0.26627,     0.26727,     0.26827,     0.26927,     0.27027,     0.27127,     0.27227,     0.27327,     0.27427,     0.27528,     0.27628,     0.27728,     0.27828,     0.27928,     0.28028,     0.28128,     0.28228,     0.28328,     0.28428,     0.28529,     0.28629,     0.28729,\n",
      "           0.28829,     0.28929,     0.29029,     0.29129,     0.29229,     0.29329,     0.29429,      0.2953,      0.2963,      0.2973,      0.2983,      0.2993,      0.3003,      0.3013,      0.3023,      0.3033,      0.3043,     0.30531,     0.30631,     0.30731,     0.30831,     0.30931,     0.31031,     0.31131,\n",
      "           0.31231,     0.31331,     0.31431,     0.31532,     0.31632,     0.31732,     0.31832,     0.31932,     0.32032,     0.32132,     0.32232,     0.32332,     0.32432,     0.32533,     0.32633,     0.32733,     0.32833,     0.32933,     0.33033,     0.33133,     0.33233,     0.33333,     0.33433,     0.33534,\n",
      "           0.33634,     0.33734,     0.33834,     0.33934,     0.34034,     0.34134,     0.34234,     0.34334,     0.34434,     0.34535,     0.34635,     0.34735,     0.34835,     0.34935,     0.35035,     0.35135,     0.35235,     0.35335,     0.35435,     0.35536,     0.35636,     0.35736,     0.35836,     0.35936,\n",
      "           0.36036,     0.36136,     0.36236,     0.36336,     0.36436,     0.36537,     0.36637,     0.36737,     0.36837,     0.36937,     0.37037,     0.37137,     0.37237,     0.37337,     0.37437,     0.37538,     0.37638,     0.37738,     0.37838,     0.37938,     0.38038,     0.38138,     0.38238,     0.38338,\n",
      "           0.38438,     0.38539,     0.38639,     0.38739,     0.38839,     0.38939,     0.39039,     0.39139,     0.39239,     0.39339,     0.39439,      0.3954,      0.3964,      0.3974,      0.3984,      0.3994,      0.4004,      0.4014,      0.4024,      0.4034,      0.4044,     0.40541,     0.40641,     0.40741,\n",
      "           0.40841,     0.40941,     0.41041,     0.41141,     0.41241,     0.41341,     0.41441,     0.41542,     0.41642,     0.41742,     0.41842,     0.41942,     0.42042,     0.42142,     0.42242,     0.42342,     0.42442,     0.42543,     0.42643,     0.42743,     0.42843,     0.42943,     0.43043,     0.43143,\n",
      "           0.43243,     0.43343,     0.43443,     0.43544,     0.43644,     0.43744,     0.43844,     0.43944,     0.44044,     0.44144,     0.44244,     0.44344,     0.44444,     0.44545,     0.44645,     0.44745,     0.44845,     0.44945,     0.45045,     0.45145,     0.45245,     0.45345,     0.45445,     0.45546,\n",
      "           0.45646,     0.45746,     0.45846,     0.45946,     0.46046,     0.46146,     0.46246,     0.46346,     0.46446,     0.46547,     0.46647,     0.46747,     0.46847,     0.46947,     0.47047,     0.47147,     0.47247,     0.47347,     0.47447,     0.47548,     0.47648,     0.47748,     0.47848,     0.47948,\n",
      "           0.48048,     0.48148,     0.48248,     0.48348,     0.48448,     0.48549,     0.48649,     0.48749,     0.48849,     0.48949,     0.49049,     0.49149,     0.49249,     0.49349,     0.49449,      0.4955,      0.4965,      0.4975,      0.4985,      0.4995,      0.5005,      0.5015,      0.5025,      0.5035,\n",
      "            0.5045,     0.50551,     0.50651,     0.50751,     0.50851,     0.50951,     0.51051,     0.51151,     0.51251,     0.51351,     0.51451,     0.51552,     0.51652,     0.51752,     0.51852,     0.51952,     0.52052,     0.52152,     0.52252,     0.52352,     0.52452,     0.52553,     0.52653,     0.52753,\n",
      "           0.52853,     0.52953,     0.53053,     0.53153,     0.53253,     0.53353,     0.53453,     0.53554,     0.53654,     0.53754,     0.53854,     0.53954,     0.54054,     0.54154,     0.54254,     0.54354,     0.54454,     0.54555,     0.54655,     0.54755,     0.54855,     0.54955,     0.55055,     0.55155,\n",
      "           0.55255,     0.55355,     0.55455,     0.55556,     0.55656,     0.55756,     0.55856,     0.55956,     0.56056,     0.56156,     0.56256,     0.56356,     0.56456,     0.56557,     0.56657,     0.56757,     0.56857,     0.56957,     0.57057,     0.57157,     0.57257,     0.57357,     0.57457,     0.57558,\n",
      "           0.57658,     0.57758,     0.57858,     0.57958,     0.58058,     0.58158,     0.58258,     0.58358,     0.58458,     0.58559,     0.58659,     0.58759,     0.58859,     0.58959,     0.59059,     0.59159,     0.59259,     0.59359,     0.59459,      0.5956,      0.5966,      0.5976,      0.5986,      0.5996,\n",
      "            0.6006,      0.6016,      0.6026,      0.6036,      0.6046,     0.60561,     0.60661,     0.60761,     0.60861,     0.60961,     0.61061,     0.61161,     0.61261,     0.61361,     0.61461,     0.61562,     0.61662,     0.61762,     0.61862,     0.61962,     0.62062,     0.62162,     0.62262,     0.62362,\n",
      "           0.62462,     0.62563,     0.62663,     0.62763,     0.62863,     0.62963,     0.63063,     0.63163,     0.63263,     0.63363,     0.63463,     0.63564,     0.63664,     0.63764,     0.63864,     0.63964,     0.64064,     0.64164,     0.64264,     0.64364,     0.64464,     0.64565,     0.64665,     0.64765,\n",
      "           0.64865,     0.64965,     0.65065,     0.65165,     0.65265,     0.65365,     0.65465,     0.65566,     0.65666,     0.65766,     0.65866,     0.65966,     0.66066,     0.66166,     0.66266,     0.66366,     0.66466,     0.66567,     0.66667,     0.66767,     0.66867,     0.66967,     0.67067,     0.67167,\n",
      "           0.67267,     0.67367,     0.67467,     0.67568,     0.67668,     0.67768,     0.67868,     0.67968,     0.68068,     0.68168,     0.68268,     0.68368,     0.68468,     0.68569,     0.68669,     0.68769,     0.68869,     0.68969,     0.69069,     0.69169,     0.69269,     0.69369,     0.69469,      0.6957,\n",
      "            0.6967,      0.6977,      0.6987,      0.6997,      0.7007,      0.7017,      0.7027,      0.7037,      0.7047,     0.70571,     0.70671,     0.70771,     0.70871,     0.70971,     0.71071,     0.71171,     0.71271,     0.71371,     0.71471,     0.71572,     0.71672,     0.71772,     0.71872,     0.71972,\n",
      "           0.72072,     0.72172,     0.72272,     0.72372,     0.72472,     0.72573,     0.72673,     0.72773,     0.72873,     0.72973,     0.73073,     0.73173,     0.73273,     0.73373,     0.73473,     0.73574,     0.73674,     0.73774,     0.73874,     0.73974,     0.74074,     0.74174,     0.74274,     0.74374,\n",
      "           0.74474,     0.74575,     0.74675,     0.74775,     0.74875,     0.74975,     0.75075,     0.75175,     0.75275,     0.75375,     0.75475,     0.75576,     0.75676,     0.75776,     0.75876,     0.75976,     0.76076,     0.76176,     0.76276,     0.76376,     0.76476,     0.76577,     0.76677,     0.76777,\n",
      "           0.76877,     0.76977,     0.77077,     0.77177,     0.77277,     0.77377,     0.77477,     0.77578,     0.77678,     0.77778,     0.77878,     0.77978,     0.78078,     0.78178,     0.78278,     0.78378,     0.78478,     0.78579,     0.78679,     0.78779,     0.78879,     0.78979,     0.79079,     0.79179,\n",
      "           0.79279,     0.79379,     0.79479,      0.7958,      0.7968,      0.7978,      0.7988,      0.7998,      0.8008,      0.8018,      0.8028,      0.8038,      0.8048,     0.80581,     0.80681,     0.80781,     0.80881,     0.80981,     0.81081,     0.81181,     0.81281,     0.81381,     0.81481,     0.81582,\n",
      "           0.81682,     0.81782,     0.81882,     0.81982,     0.82082,     0.82182,     0.82282,     0.82382,     0.82482,     0.82583,     0.82683,     0.82783,     0.82883,     0.82983,     0.83083,     0.83183,     0.83283,     0.83383,     0.83483,     0.83584,     0.83684,     0.83784,     0.83884,     0.83984,\n",
      "           0.84084,     0.84184,     0.84284,     0.84384,     0.84484,     0.84585,     0.84685,     0.84785,     0.84885,     0.84985,     0.85085,     0.85185,     0.85285,     0.85385,     0.85485,     0.85586,     0.85686,     0.85786,     0.85886,     0.85986,     0.86086,     0.86186,     0.86286,     0.86386,\n",
      "           0.86486,     0.86587,     0.86687,     0.86787,     0.86887,     0.86987,     0.87087,     0.87187,     0.87287,     0.87387,     0.87487,     0.87588,     0.87688,     0.87788,     0.87888,     0.87988,     0.88088,     0.88188,     0.88288,     0.88388,     0.88488,     0.88589,     0.88689,     0.88789,\n",
      "           0.88889,     0.88989,     0.89089,     0.89189,     0.89289,     0.89389,     0.89489,      0.8959,      0.8969,      0.8979,      0.8989,      0.8999,      0.9009,      0.9019,      0.9029,      0.9039,      0.9049,     0.90591,     0.90691,     0.90791,     0.90891,     0.90991,     0.91091,     0.91191,\n",
      "           0.91291,     0.91391,     0.91491,     0.91592,     0.91692,     0.91792,     0.91892,     0.91992,     0.92092,     0.92192,     0.92292,     0.92392,     0.92492,     0.92593,     0.92693,     0.92793,     0.92893,     0.92993,     0.93093,     0.93193,     0.93293,     0.93393,     0.93493,     0.93594,\n",
      "           0.93694,     0.93794,     0.93894,     0.93994,     0.94094,     0.94194,     0.94294,     0.94394,     0.94494,     0.94595,     0.94695,     0.94795,     0.94895,     0.94995,     0.95095,     0.95195,     0.95295,     0.95395,     0.95495,     0.95596,     0.95696,     0.95796,     0.95896,     0.95996,\n",
      "           0.96096,     0.96196,     0.96296,     0.96396,     0.96496,     0.96597,     0.96697,     0.96797,     0.96897,     0.96997,     0.97097,     0.97197,     0.97297,     0.97397,     0.97497,     0.97598,     0.97698,     0.97798,     0.97898,     0.97998,     0.98098,     0.98198,     0.98298,     0.98398,\n",
      "           0.98498,     0.98599,     0.98699,     0.98799,     0.98899,     0.98999,     0.99099,     0.99199,     0.99299,     0.99399,     0.99499,       0.996,       0.997,       0.998,       0.999,           1]), array([[   0.074868,    0.074902,      0.1095,     0.13685,     0.16033,     0.18099,     0.19919,     0.21565,     0.23138,     0.24498,     0.25805,     0.27044,     0.28199,     0.29347,     0.30386,     0.31419,     0.32384,     0.33225,     0.34045,     0.34847,     0.35645,     0.36391,     0.37145,\n",
      "            0.37834,     0.38465,     0.39184,     0.39801,     0.40359,     0.40979,     0.41482,     0.42113,      0.4261,     0.43098,     0.43615,     0.44052,     0.44514,     0.44964,     0.45423,      0.4581,      0.4623,     0.46699,     0.47134,     0.47501,     0.47891,     0.48269,     0.48645,\n",
      "            0.48987,     0.49321,     0.49701,     0.50057,     0.50448,      0.5084,     0.51185,     0.51554,     0.51891,     0.52213,     0.52554,     0.52842,     0.53112,     0.53455,     0.53739,     0.54006,     0.54205,     0.54516,     0.54787,     0.55083,     0.55335,     0.55571,     0.55864,\n",
      "            0.56072,     0.56321,     0.56586,     0.56894,     0.57099,     0.57369,      0.5761,     0.57814,     0.58012,      0.5823,     0.58369,      0.5857,     0.58767,     0.59023,     0.59249,     0.59512,     0.59718,     0.59954,     0.60169,     0.60357,     0.60606,     0.60764,     0.60967,\n",
      "            0.61131,     0.61323,     0.61486,     0.61664,     0.61857,     0.62033,     0.62228,     0.62347,     0.62482,     0.62621,     0.62798,     0.62984,     0.63176,      0.6335,      0.6356,     0.63653,     0.63788,       0.639,     0.64063,     0.64305,     0.64509,      0.6464,     0.64763,\n",
      "            0.64909,     0.65024,     0.65165,     0.65322,     0.65456,     0.65676,     0.65831,     0.65977,     0.66096,     0.66213,     0.66366,     0.66496,     0.66654,     0.66818,     0.66937,     0.67035,     0.67141,      0.6724,     0.67385,     0.67522,     0.67645,      0.6776,     0.67882,\n",
      "            0.68017,     0.68139,     0.68294,     0.68415,     0.68514,     0.68667,     0.68767,     0.68884,     0.68966,     0.69137,     0.69299,     0.69417,     0.69553,     0.69626,     0.69749,     0.69877,     0.70021,     0.70121,      0.7021,     0.70348,     0.70488,      0.7061,     0.70643,\n",
      "            0.70721,     0.70826,     0.70963,     0.71119,     0.71211,     0.71267,      0.7137,     0.71469,     0.71613,     0.71746,     0.71838,     0.71923,     0.72007,      0.7209,     0.72187,     0.72304,      0.7241,      0.7253,     0.72675,     0.72755,     0.72857,     0.72938,     0.73013,\n",
      "            0.73093,     0.73179,     0.73253,     0.73347,     0.73469,     0.73614,     0.73698,     0.73871,     0.73966,     0.74045,     0.74121,     0.74175,     0.74318,     0.74382,     0.74457,     0.74525,     0.74637,     0.74749,     0.74865,     0.74911,     0.75008,     0.75129,     0.75215,\n",
      "            0.75349,     0.75443,     0.75525,     0.75596,     0.75712,     0.75802,      0.7588,     0.75991,     0.76089,     0.76146,     0.76252,     0.76359,     0.76396,     0.76523,     0.76597,      0.7669,     0.76772,     0.76846,     0.76933,      0.7701,     0.77038,     0.77077,     0.77212,\n",
      "            0.77285,     0.77401,     0.77501,     0.77618,     0.77701,     0.77785,     0.77899,     0.77966,     0.78025,     0.78117,     0.78148,     0.78176,     0.78296,     0.78338,     0.78437,     0.78502,     0.78572,     0.78653,     0.78749,     0.78846,     0.78911,     0.78973,     0.79067,\n",
      "            0.79125,     0.79197,     0.79269,     0.79309,      0.7935,      0.7937,      0.7942,     0.79534,     0.79582,     0.79704,     0.79794,     0.79849,     0.79891,     0.79985,     0.80051,     0.80145,     0.80188,     0.80245,     0.80306,     0.80357,     0.80392,     0.80469,     0.80528,\n",
      "             0.8059,     0.80643,     0.80724,     0.80776,     0.80836,     0.80873,     0.80938,     0.80976,     0.81044,     0.81132,     0.81218,     0.81234,     0.81246,     0.81286,      0.8135,     0.81392,     0.81474,      0.8158,     0.81646,     0.81665,     0.81742,     0.81786,     0.81858,\n",
      "            0.81892,     0.81962,     0.82016,     0.82095,      0.8214,     0.82229,     0.82256,     0.82292,     0.82372,     0.82425,     0.82478,     0.82547,     0.82591,     0.82674,      0.8272,      0.8276,     0.82806,     0.82826,     0.82855,     0.82946,      0.8296,     0.82988,     0.83046,\n",
      "            0.83145,      0.8318,      0.8325,     0.83289,     0.83354,     0.83409,     0.83433,     0.83483,     0.83538,     0.83606,     0.83643,     0.83686,     0.83714,     0.83769,     0.83846,     0.83877,     0.83957,     0.83964,     0.84024,     0.84098,      0.8419,     0.84234,     0.84324,\n",
      "            0.84393,     0.84463,     0.84533,     0.84587,     0.84696,     0.84728,      0.8476,      0.8481,     0.84897,     0.84936,     0.84955,     0.84976,     0.85021,     0.85084,     0.85155,     0.85175,     0.85254,     0.85321,      0.8537,     0.85433,     0.85443,     0.85509,      0.8558,\n",
      "             0.8558,      0.8561,     0.85653,     0.85718,     0.85748,     0.85845,      0.8593,     0.85972,     0.86003,      0.8608,     0.86087,     0.86126,     0.86159,     0.86222,     0.86243,     0.86309,     0.86364,     0.86434,     0.86491,     0.86538,     0.86576,     0.86574,     0.86612,\n",
      "             0.8668,     0.86764,     0.86832,      0.8685,     0.86916,     0.86935,     0.86993,     0.87012,     0.87041,     0.87087,     0.87089,     0.87189,     0.87235,     0.87309,      0.8737,     0.87424,     0.87465,     0.87513,     0.87554,      0.8758,     0.87635,     0.87693,     0.87748,\n",
      "            0.87783,     0.87844,     0.87885,     0.87937,     0.87945,     0.87952,        0.88,     0.88086,     0.88132,     0.88175,     0.88207,     0.88209,     0.88221,     0.88252,     0.88275,     0.88286,     0.88322,     0.88316,     0.88346,     0.88342,     0.88397,     0.88426,     0.88454,\n",
      "            0.88489,      0.8853,     0.88533,     0.88522,     0.88568,      0.8867,     0.88697,     0.88786,      0.8882,     0.88847,     0.88908,     0.88951,     0.88968,     0.88977,     0.89001,        0.89,     0.89043,     0.89096,     0.89127,     0.89175,     0.89193,      0.8922,     0.89247,\n",
      "            0.89278,     0.89286,      0.8931,     0.89311,     0.89397,     0.89446,     0.89537,     0.89607,     0.89602,     0.89625,     0.89656,     0.89709,     0.89723,      0.8976,     0.89796,     0.89807,     0.89894,     0.89923,     0.89983,     0.90074,     0.90116,      0.9018,     0.90289,\n",
      "            0.90322,     0.90332,     0.90343,     0.90365,     0.90412,     0.90467,     0.90508,     0.90551,     0.90545,     0.90565,       0.906,     0.90606,     0.90614,      0.9064,     0.90635,     0.90666,       0.907,      0.9075,     0.90779,     0.90814,     0.90853,     0.90926,     0.90948,\n",
      "            0.90972,     0.91045,      0.9106,     0.91047,       0.911,     0.91115,     0.91168,     0.91179,     0.91196,     0.91222,     0.91262,     0.91339,     0.91374,     0.91438,     0.91428,     0.91462,     0.91502,     0.91508,      0.9158,     0.91639,     0.91662,     0.91746,     0.91758,\n",
      "            0.91812,     0.91818,     0.91856,     0.91864,     0.91888,     0.91924,     0.91992,     0.91987,     0.92014,     0.92032,     0.92055,     0.92124,     0.92159,     0.92185,     0.92174,      0.9218,     0.92179,     0.92214,     0.92236,     0.92298,     0.92318,     0.92385,      0.9241,\n",
      "            0.92421,     0.92415,     0.92454,     0.92461,     0.92468,     0.92486,     0.92496,     0.92535,     0.92543,      0.9256,     0.92595,      0.9262,      0.9263,      0.9267,     0.92654,     0.92695,      0.9272,     0.92792,      0.9278,     0.92792,      0.9278,     0.92769,     0.92787,\n",
      "            0.92857,     0.92908,     0.92916,     0.92908,     0.92962,     0.93051,     0.93076,     0.93119,     0.93142,     0.93205,     0.93247,     0.93253,     0.93258,     0.93332,     0.93401,     0.93419,     0.93428,     0.93465,     0.93504,     0.93507,     0.93501,     0.93521,     0.93531,\n",
      "            0.93554,     0.93568,      0.9356,     0.93577,      0.9362,     0.93647,     0.93688,     0.93693,     0.93713,     0.93732,     0.93718,     0.93723,     0.93764,     0.93789,     0.93774,     0.93815,      0.9384,     0.93847,     0.93887,     0.93913,     0.93904,      0.9391,     0.93939,\n",
      "            0.93965,     0.93991,     0.93999,        0.94,     0.94055,     0.94116,     0.94145,     0.94153,      0.9422,     0.94247,     0.94277,     0.94295,     0.94376,       0.944,     0.94409,     0.94393,     0.94436,     0.94444,     0.94431,     0.94495,     0.94503,     0.94526,     0.94592,\n",
      "            0.94589,     0.94675,      0.9476,     0.94783,     0.94763,     0.94848,     0.94859,     0.94862,      0.9487,     0.94875,     0.94942,     0.95007,     0.95048,      0.9506,       0.951,      0.9513,     0.95107,     0.95094,     0.95083,     0.95069,      0.9506,     0.95171,     0.95223,\n",
      "             0.9524,     0.95286,     0.95313,     0.95298,     0.95309,     0.95292,     0.95346,     0.95345,     0.95365,     0.95415,     0.95394,     0.95395,     0.95448,     0.95475,     0.95505,     0.95502,     0.95523,     0.95552,     0.95602,     0.95598,     0.95623,     0.95654,     0.95641,\n",
      "            0.95689,     0.95712,     0.95706,     0.95681,     0.95702,     0.95677,     0.95668,      0.9572,     0.95697,     0.95722,      0.9576,     0.95755,     0.95777,     0.95755,     0.95725,      0.9575,      0.9575,     0.95802,     0.95804,     0.95797,      0.9579,      0.9587,     0.95833,\n",
      "            0.95859,     0.95821,     0.95873,     0.95878,     0.95898,     0.95888,     0.95892,     0.95874,     0.95898,     0.95949,     0.95963,     0.95937,     0.95889,     0.95905,      0.9599,     0.96019,     0.96063,      0.9611,     0.96124,     0.96182,     0.96163,     0.96125,     0.96063,\n",
      "            0.96043,     0.96106,       0.961,     0.96127,     0.96107,      0.9604,     0.95983,     0.95916,     0.95936,     0.95954,     0.96056,     0.96033,     0.96053,     0.95986,     0.95917,     0.95985,     0.96021,      0.9605,     0.95981,     0.95981,     0.96034,     0.96053,     0.95977,\n",
      "            0.96015,     0.95919,     0.95863,      0.9583,     0.95688,     0.95685,      0.9566,     0.95718,     0.95636,     0.95592,     0.95586,     0.95571,     0.95539,     0.95501,     0.95453,     0.95472,     0.95459,     0.95398,     0.95376,     0.95372,     0.95449,     0.95315,     0.95367,\n",
      "            0.95485,     0.95469,     0.95343,     0.95163,     0.95292,     0.95159,     0.95241,     0.95229,     0.95136,     0.94975,     0.94866,     0.95007,     0.94865,     0.94974,     0.94999,     0.94925,     0.95079,     0.94971,     0.94961,     0.95165,     0.95046,      0.9516,      0.9545,\n",
      "            0.95361,     0.95257,     0.95303,     0.95384,     0.95218,     0.95332,     0.95149,     0.95076,      0.9493,     0.95236,     0.95857,      0.9574,     0.95911,     0.95958,     0.95953,     0.95817,     0.96003,     0.95904,     0.96083,     0.95884,     0.95784,     0.95704,      0.9554,\n",
      "            0.95912,     0.96506,     0.96424,     0.96314,     0.96157,     0.96495,     0.96342,     0.96256,      0.9616,     0.96102,      0.9588,     0.96251,     0.96276,     0.96164,     0.96035,     0.95919,     0.95874,       0.964,     0.96905,     0.96854,     0.97213,     0.97542,     0.97423,\n",
      "            0.97296,     0.97176,      0.9707,     0.97915,     0.97902,      0.9886,     0.98834,     0.98807,     0.98787,     0.98667,     0.98593,     0.98533,     0.98475,           1,           1,           1,           1,           1,           1,           1,           1,           1,           1,\n",
      "                  1,           1,           1,           1,           1,           1,           1,           1,           1,           1,           1,           1,           1,           1,           1,           1,           1,           1,           1,           1,           1,           1,           1,\n",
      "                  1,           1,           1,           1,           1,           1,           1,           1,           1,           1,           1,           1,           1,           1,           1,           1,           1,           1,           1,           1,           1,           1,           1,\n",
      "                  1,           1,           1,           1,           1,           1,           1,           1,           1,           1,           1,           1,           1,           1,           1,           1,           1,           1,           1,           1,           1,           1,           1,\n",
      "                  1,           1,           1,           1,           1,           1,           1,           1,           1,           1,           1,           1,           1,           1,           1,           1,           1,           1,           1,           1,           1,           1,           1,\n",
      "                  1,           1,           1,           1,           1,           1,           1,           1,           1,           1,           1,           1,           1,           1,           1,           1,           1,           1,           1,           1,           1,           1,           1,\n",
      "                  1,           1,           1,           1,           1,           1,           1,           1,           1,           1,           1]]), 'Confidence', 'Precision'], [array([          0,    0.001001,    0.002002,    0.003003,    0.004004,    0.005005,    0.006006,    0.007007,    0.008008,    0.009009,     0.01001,    0.011011,    0.012012,    0.013013,    0.014014,    0.015015,    0.016016,    0.017017,    0.018018,    0.019019,     0.02002,    0.021021,    0.022022,    0.023023,\n",
      "          0.024024,    0.025025,    0.026026,    0.027027,    0.028028,    0.029029,     0.03003,    0.031031,    0.032032,    0.033033,    0.034034,    0.035035,    0.036036,    0.037037,    0.038038,    0.039039,     0.04004,    0.041041,    0.042042,    0.043043,    0.044044,    0.045045,    0.046046,    0.047047,\n",
      "          0.048048,    0.049049,     0.05005,    0.051051,    0.052052,    0.053053,    0.054054,    0.055055,    0.056056,    0.057057,    0.058058,    0.059059,     0.06006,    0.061061,    0.062062,    0.063063,    0.064064,    0.065065,    0.066066,    0.067067,    0.068068,    0.069069,     0.07007,    0.071071,\n",
      "          0.072072,    0.073073,    0.074074,    0.075075,    0.076076,    0.077077,    0.078078,    0.079079,     0.08008,    0.081081,    0.082082,    0.083083,    0.084084,    0.085085,    0.086086,    0.087087,    0.088088,    0.089089,     0.09009,    0.091091,    0.092092,    0.093093,    0.094094,    0.095095,\n",
      "          0.096096,    0.097097,    0.098098,    0.099099,      0.1001,      0.1011,      0.1021,      0.1031,      0.1041,     0.10511,     0.10611,     0.10711,     0.10811,     0.10911,     0.11011,     0.11111,     0.11211,     0.11311,     0.11411,     0.11512,     0.11612,     0.11712,     0.11812,     0.11912,\n",
      "           0.12012,     0.12112,     0.12212,     0.12312,     0.12412,     0.12513,     0.12613,     0.12713,     0.12813,     0.12913,     0.13013,     0.13113,     0.13213,     0.13313,     0.13413,     0.13514,     0.13614,     0.13714,     0.13814,     0.13914,     0.14014,     0.14114,     0.14214,     0.14314,\n",
      "           0.14414,     0.14515,     0.14615,     0.14715,     0.14815,     0.14915,     0.15015,     0.15115,     0.15215,     0.15315,     0.15415,     0.15516,     0.15616,     0.15716,     0.15816,     0.15916,     0.16016,     0.16116,     0.16216,     0.16316,     0.16416,     0.16517,     0.16617,     0.16717,\n",
      "           0.16817,     0.16917,     0.17017,     0.17117,     0.17217,     0.17317,     0.17417,     0.17518,     0.17618,     0.17718,     0.17818,     0.17918,     0.18018,     0.18118,     0.18218,     0.18318,     0.18418,     0.18519,     0.18619,     0.18719,     0.18819,     0.18919,     0.19019,     0.19119,\n",
      "           0.19219,     0.19319,     0.19419,      0.1952,      0.1962,      0.1972,      0.1982,      0.1992,      0.2002,      0.2012,      0.2022,      0.2032,      0.2042,     0.20521,     0.20621,     0.20721,     0.20821,     0.20921,     0.21021,     0.21121,     0.21221,     0.21321,     0.21421,     0.21522,\n",
      "           0.21622,     0.21722,     0.21822,     0.21922,     0.22022,     0.22122,     0.22222,     0.22322,     0.22422,     0.22523,     0.22623,     0.22723,     0.22823,     0.22923,     0.23023,     0.23123,     0.23223,     0.23323,     0.23423,     0.23524,     0.23624,     0.23724,     0.23824,     0.23924,\n",
      "           0.24024,     0.24124,     0.24224,     0.24324,     0.24424,     0.24525,     0.24625,     0.24725,     0.24825,     0.24925,     0.25025,     0.25125,     0.25225,     0.25325,     0.25425,     0.25526,     0.25626,     0.25726,     0.25826,     0.25926,     0.26026,     0.26126,     0.26226,     0.26326,\n",
      "           0.26426,     0.26527,     0.26627,     0.26727,     0.26827,     0.26927,     0.27027,     0.27127,     0.27227,     0.27327,     0.27427,     0.27528,     0.27628,     0.27728,     0.27828,     0.27928,     0.28028,     0.28128,     0.28228,     0.28328,     0.28428,     0.28529,     0.28629,     0.28729,\n",
      "           0.28829,     0.28929,     0.29029,     0.29129,     0.29229,     0.29329,     0.29429,      0.2953,      0.2963,      0.2973,      0.2983,      0.2993,      0.3003,      0.3013,      0.3023,      0.3033,      0.3043,     0.30531,     0.30631,     0.30731,     0.30831,     0.30931,     0.31031,     0.31131,\n",
      "           0.31231,     0.31331,     0.31431,     0.31532,     0.31632,     0.31732,     0.31832,     0.31932,     0.32032,     0.32132,     0.32232,     0.32332,     0.32432,     0.32533,     0.32633,     0.32733,     0.32833,     0.32933,     0.33033,     0.33133,     0.33233,     0.33333,     0.33433,     0.33534,\n",
      "           0.33634,     0.33734,     0.33834,     0.33934,     0.34034,     0.34134,     0.34234,     0.34334,     0.34434,     0.34535,     0.34635,     0.34735,     0.34835,     0.34935,     0.35035,     0.35135,     0.35235,     0.35335,     0.35435,     0.35536,     0.35636,     0.35736,     0.35836,     0.35936,\n",
      "           0.36036,     0.36136,     0.36236,     0.36336,     0.36436,     0.36537,     0.36637,     0.36737,     0.36837,     0.36937,     0.37037,     0.37137,     0.37237,     0.37337,     0.37437,     0.37538,     0.37638,     0.37738,     0.37838,     0.37938,     0.38038,     0.38138,     0.38238,     0.38338,\n",
      "           0.38438,     0.38539,     0.38639,     0.38739,     0.38839,     0.38939,     0.39039,     0.39139,     0.39239,     0.39339,     0.39439,      0.3954,      0.3964,      0.3974,      0.3984,      0.3994,      0.4004,      0.4014,      0.4024,      0.4034,      0.4044,     0.40541,     0.40641,     0.40741,\n",
      "           0.40841,     0.40941,     0.41041,     0.41141,     0.41241,     0.41341,     0.41441,     0.41542,     0.41642,     0.41742,     0.41842,     0.41942,     0.42042,     0.42142,     0.42242,     0.42342,     0.42442,     0.42543,     0.42643,     0.42743,     0.42843,     0.42943,     0.43043,     0.43143,\n",
      "           0.43243,     0.43343,     0.43443,     0.43544,     0.43644,     0.43744,     0.43844,     0.43944,     0.44044,     0.44144,     0.44244,     0.44344,     0.44444,     0.44545,     0.44645,     0.44745,     0.44845,     0.44945,     0.45045,     0.45145,     0.45245,     0.45345,     0.45445,     0.45546,\n",
      "           0.45646,     0.45746,     0.45846,     0.45946,     0.46046,     0.46146,     0.46246,     0.46346,     0.46446,     0.46547,     0.46647,     0.46747,     0.46847,     0.46947,     0.47047,     0.47147,     0.47247,     0.47347,     0.47447,     0.47548,     0.47648,     0.47748,     0.47848,     0.47948,\n",
      "           0.48048,     0.48148,     0.48248,     0.48348,     0.48448,     0.48549,     0.48649,     0.48749,     0.48849,     0.48949,     0.49049,     0.49149,     0.49249,     0.49349,     0.49449,      0.4955,      0.4965,      0.4975,      0.4985,      0.4995,      0.5005,      0.5015,      0.5025,      0.5035,\n",
      "            0.5045,     0.50551,     0.50651,     0.50751,     0.50851,     0.50951,     0.51051,     0.51151,     0.51251,     0.51351,     0.51451,     0.51552,     0.51652,     0.51752,     0.51852,     0.51952,     0.52052,     0.52152,     0.52252,     0.52352,     0.52452,     0.52553,     0.52653,     0.52753,\n",
      "           0.52853,     0.52953,     0.53053,     0.53153,     0.53253,     0.53353,     0.53453,     0.53554,     0.53654,     0.53754,     0.53854,     0.53954,     0.54054,     0.54154,     0.54254,     0.54354,     0.54454,     0.54555,     0.54655,     0.54755,     0.54855,     0.54955,     0.55055,     0.55155,\n",
      "           0.55255,     0.55355,     0.55455,     0.55556,     0.55656,     0.55756,     0.55856,     0.55956,     0.56056,     0.56156,     0.56256,     0.56356,     0.56456,     0.56557,     0.56657,     0.56757,     0.56857,     0.56957,     0.57057,     0.57157,     0.57257,     0.57357,     0.57457,     0.57558,\n",
      "           0.57658,     0.57758,     0.57858,     0.57958,     0.58058,     0.58158,     0.58258,     0.58358,     0.58458,     0.58559,     0.58659,     0.58759,     0.58859,     0.58959,     0.59059,     0.59159,     0.59259,     0.59359,     0.59459,      0.5956,      0.5966,      0.5976,      0.5986,      0.5996,\n",
      "            0.6006,      0.6016,      0.6026,      0.6036,      0.6046,     0.60561,     0.60661,     0.60761,     0.60861,     0.60961,     0.61061,     0.61161,     0.61261,     0.61361,     0.61461,     0.61562,     0.61662,     0.61762,     0.61862,     0.61962,     0.62062,     0.62162,     0.62262,     0.62362,\n",
      "           0.62462,     0.62563,     0.62663,     0.62763,     0.62863,     0.62963,     0.63063,     0.63163,     0.63263,     0.63363,     0.63463,     0.63564,     0.63664,     0.63764,     0.63864,     0.63964,     0.64064,     0.64164,     0.64264,     0.64364,     0.64464,     0.64565,     0.64665,     0.64765,\n",
      "           0.64865,     0.64965,     0.65065,     0.65165,     0.65265,     0.65365,     0.65465,     0.65566,     0.65666,     0.65766,     0.65866,     0.65966,     0.66066,     0.66166,     0.66266,     0.66366,     0.66466,     0.66567,     0.66667,     0.66767,     0.66867,     0.66967,     0.67067,     0.67167,\n",
      "           0.67267,     0.67367,     0.67467,     0.67568,     0.67668,     0.67768,     0.67868,     0.67968,     0.68068,     0.68168,     0.68268,     0.68368,     0.68468,     0.68569,     0.68669,     0.68769,     0.68869,     0.68969,     0.69069,     0.69169,     0.69269,     0.69369,     0.69469,      0.6957,\n",
      "            0.6967,      0.6977,      0.6987,      0.6997,      0.7007,      0.7017,      0.7027,      0.7037,      0.7047,     0.70571,     0.70671,     0.70771,     0.70871,     0.70971,     0.71071,     0.71171,     0.71271,     0.71371,     0.71471,     0.71572,     0.71672,     0.71772,     0.71872,     0.71972,\n",
      "           0.72072,     0.72172,     0.72272,     0.72372,     0.72472,     0.72573,     0.72673,     0.72773,     0.72873,     0.72973,     0.73073,     0.73173,     0.73273,     0.73373,     0.73473,     0.73574,     0.73674,     0.73774,     0.73874,     0.73974,     0.74074,     0.74174,     0.74274,     0.74374,\n",
      "           0.74474,     0.74575,     0.74675,     0.74775,     0.74875,     0.74975,     0.75075,     0.75175,     0.75275,     0.75375,     0.75475,     0.75576,     0.75676,     0.75776,     0.75876,     0.75976,     0.76076,     0.76176,     0.76276,     0.76376,     0.76476,     0.76577,     0.76677,     0.76777,\n",
      "           0.76877,     0.76977,     0.77077,     0.77177,     0.77277,     0.77377,     0.77477,     0.77578,     0.77678,     0.77778,     0.77878,     0.77978,     0.78078,     0.78178,     0.78278,     0.78378,     0.78478,     0.78579,     0.78679,     0.78779,     0.78879,     0.78979,     0.79079,     0.79179,\n",
      "           0.79279,     0.79379,     0.79479,      0.7958,      0.7968,      0.7978,      0.7988,      0.7998,      0.8008,      0.8018,      0.8028,      0.8038,      0.8048,     0.80581,     0.80681,     0.80781,     0.80881,     0.80981,     0.81081,     0.81181,     0.81281,     0.81381,     0.81481,     0.81582,\n",
      "           0.81682,     0.81782,     0.81882,     0.81982,     0.82082,     0.82182,     0.82282,     0.82382,     0.82482,     0.82583,     0.82683,     0.82783,     0.82883,     0.82983,     0.83083,     0.83183,     0.83283,     0.83383,     0.83483,     0.83584,     0.83684,     0.83784,     0.83884,     0.83984,\n",
      "           0.84084,     0.84184,     0.84284,     0.84384,     0.84484,     0.84585,     0.84685,     0.84785,     0.84885,     0.84985,     0.85085,     0.85185,     0.85285,     0.85385,     0.85485,     0.85586,     0.85686,     0.85786,     0.85886,     0.85986,     0.86086,     0.86186,     0.86286,     0.86386,\n",
      "           0.86486,     0.86587,     0.86687,     0.86787,     0.86887,     0.86987,     0.87087,     0.87187,     0.87287,     0.87387,     0.87487,     0.87588,     0.87688,     0.87788,     0.87888,     0.87988,     0.88088,     0.88188,     0.88288,     0.88388,     0.88488,     0.88589,     0.88689,     0.88789,\n",
      "           0.88889,     0.88989,     0.89089,     0.89189,     0.89289,     0.89389,     0.89489,      0.8959,      0.8969,      0.8979,      0.8989,      0.8999,      0.9009,      0.9019,      0.9029,      0.9039,      0.9049,     0.90591,     0.90691,     0.90791,     0.90891,     0.90991,     0.91091,     0.91191,\n",
      "           0.91291,     0.91391,     0.91491,     0.91592,     0.91692,     0.91792,     0.91892,     0.91992,     0.92092,     0.92192,     0.92292,     0.92392,     0.92492,     0.92593,     0.92693,     0.92793,     0.92893,     0.92993,     0.93093,     0.93193,     0.93293,     0.93393,     0.93493,     0.93594,\n",
      "           0.93694,     0.93794,     0.93894,     0.93994,     0.94094,     0.94194,     0.94294,     0.94394,     0.94494,     0.94595,     0.94695,     0.94795,     0.94895,     0.94995,     0.95095,     0.95195,     0.95295,     0.95395,     0.95495,     0.95596,     0.95696,     0.95796,     0.95896,     0.95996,\n",
      "           0.96096,     0.96196,     0.96296,     0.96396,     0.96496,     0.96597,     0.96697,     0.96797,     0.96897,     0.96997,     0.97097,     0.97197,     0.97297,     0.97397,     0.97497,     0.97598,     0.97698,     0.97798,     0.97898,     0.97998,     0.98098,     0.98198,     0.98298,     0.98398,\n",
      "           0.98498,     0.98599,     0.98699,     0.98799,     0.98899,     0.98999,     0.99099,     0.99199,     0.99299,     0.99399,     0.99499,       0.996,       0.997,       0.998,       0.999,           1]), array([[    0.96143,     0.96143,     0.95662,     0.95359,      0.9508,     0.94853,      0.9465,     0.94385,     0.94258,     0.94106,     0.93854,     0.93702,     0.93537,     0.93373,      0.9331,     0.93183,     0.93095,     0.92892,     0.92804,     0.92703,     0.92614,     0.92589,     0.92526,\n",
      "            0.92361,     0.92298,     0.92171,     0.92096,     0.91969,     0.91893,      0.9183,     0.91779,     0.91678,     0.91526,     0.91425,     0.91375,     0.91349,     0.91311,     0.91223,     0.91185,     0.91122,     0.91109,     0.91084,     0.90983,     0.90881,     0.90856,     0.90793,\n",
      "            0.90717,     0.90679,     0.90641,     0.90565,     0.90527,     0.90502,     0.90464,     0.90414,     0.90325,     0.90211,     0.90148,     0.90072,     0.89984,     0.89958,     0.89908,      0.8987,     0.89769,     0.89718,      0.8968,     0.89667,     0.89592,     0.89566,     0.89503,\n",
      "             0.8944,     0.89427,     0.89402,     0.89339,     0.89288,     0.89275,     0.89256,     0.89187,     0.89162,     0.89149,     0.89098,     0.89035,     0.89035,     0.88972,     0.88972,     0.88934,     0.88921,     0.88909,     0.88858,     0.88807,     0.88802,     0.88764,     0.88719,\n",
      "            0.88656,     0.88605,     0.88592,     0.88529,     0.88441,      0.8839,     0.88352,     0.88302,     0.88264,     0.88251,     0.88213,       0.882,      0.8815,     0.88099,     0.88061,     0.88011,     0.87973,     0.87909,     0.87897,     0.87884,     0.87846,     0.87834,     0.87808,\n",
      "            0.87796,     0.87758,     0.87694,     0.87644,     0.87606,     0.87555,     0.87505,     0.87442,     0.87404,     0.87353,      0.8729,     0.87277,     0.87214,     0.87189,     0.87151,     0.87106,     0.87075,     0.87024,     0.86974,     0.86974,     0.86974,      0.8692,      0.8686,\n",
      "            0.86834,     0.86834,     0.86817,     0.86784,     0.86759,     0.86746,     0.86713,      0.8667,     0.86632,     0.86619,     0.86582,     0.86556,     0.86544,     0.86506,      0.8648,     0.86442,     0.86417,     0.86354,     0.86291,     0.86253,     0.86189,     0.86189,     0.86139,\n",
      "            0.86101,     0.86076,     0.86063,     0.86025,        0.86,     0.85974,     0.85937,     0.85899,     0.85886,     0.85886,     0.85877,     0.85822,     0.85797,     0.85747,     0.85696,     0.85684,     0.85671,     0.85671,     0.85658,     0.85646,      0.8562,     0.85582,     0.85532,\n",
      "            0.85481,     0.85443,     0.85418,     0.85367,     0.85329,     0.85329,     0.85292,     0.85274,     0.85228,     0.85203,     0.85165,     0.85114,     0.85064,     0.85026,     0.85013,     0.85001,     0.84937,     0.84925,     0.84899,     0.84862,     0.84798,     0.84786,     0.84748,\n",
      "            0.84722,     0.84697,     0.84659,     0.84621,     0.84604,     0.84583,     0.84583,     0.84558,     0.84517,     0.84482,     0.84482,     0.84469,     0.84444,     0.84406,     0.84358,     0.84298,     0.84267,     0.84229,     0.84204,     0.84141,     0.84098,     0.84029,     0.83976,\n",
      "             0.8391,     0.83875,     0.83837,     0.83824,     0.83812,     0.83799,     0.83787,     0.83771,     0.83723,     0.83685,     0.83672,     0.83609,     0.83597,     0.83563,     0.83546,     0.83496,     0.83483,     0.83457,      0.8342,     0.83407,     0.83382,     0.83331,     0.83306,\n",
      "            0.83281,     0.83249,     0.83223,     0.83185,     0.83154,     0.83107,     0.83067,     0.83062,     0.83015,     0.82977,     0.82956,     0.82863,     0.82804,     0.82787,     0.82775,     0.82724,     0.82718,     0.82661,     0.82615,      0.8256,     0.82534,     0.82497,     0.82459,\n",
      "            0.82388,     0.82351,     0.82332,     0.82307,     0.82269,     0.82256,     0.82218,     0.82204,     0.82131,     0.82104,     0.82079,     0.82066,     0.82019,      0.8194,     0.81927,     0.81864,     0.81852,     0.81826,     0.81826,     0.81792,     0.81759,     0.81738,     0.81718,\n",
      "            0.81673,     0.81637,      0.8161,     0.81599,     0.81546,     0.81519,     0.81485,     0.81472,     0.81459,     0.81409,     0.81377,     0.81346,     0.81346,      0.8132,     0.81282,     0.81232,     0.81169,     0.81156,     0.81106,     0.81029,     0.80992,     0.80945,     0.80907,\n",
      "             0.8089,      0.8087,     0.80827,     0.80812,     0.80745,     0.80713,     0.80688,     0.80671,      0.8065,     0.80624,     0.80574,     0.80549,     0.80547,     0.80486,     0.80448,      0.8041,     0.80346,     0.80334,     0.80284,     0.80283,     0.80277,     0.80208,     0.80144,\n",
      "            0.80068,     0.80018,     0.79971,     0.79954,     0.79929,     0.79904,     0.79853,      0.7979,     0.79777,     0.79752,     0.79727,     0.79684,     0.79664,     0.79626,     0.79575,      0.7955,     0.79474,     0.79411,      0.7936,     0.79322,     0.79259,     0.79254,     0.79221,\n",
      "            0.79187,     0.79151,     0.79051,     0.79044,     0.78984,     0.78921,     0.78864,     0.78842,     0.78794,     0.78758,     0.78721,     0.78665,     0.78645,     0.78587,     0.78551,     0.78525,     0.78501,     0.78449,     0.78412,     0.78372,     0.78336,     0.78286,     0.78219,\n",
      "            0.78184,     0.78133,     0.78121,     0.78096,     0.78057,     0.78012,      0.7799,     0.77956,     0.77894,     0.77842,     0.77792,     0.77729,       0.777,      0.7764,     0.77602,     0.77564,      0.7748,     0.77381,     0.77362,     0.77337,     0.77286,     0.77232,      0.7721,\n",
      "            0.77134,     0.77109,     0.77065,     0.77008,     0.76949,     0.76919,     0.76885,     0.76843,     0.76818,     0.76767,     0.76719,     0.76666,     0.76629,     0.76571,     0.76459,     0.76401,      0.7633,     0.76287,     0.76222,     0.76191,      0.7612,     0.76043,     0.75996,\n",
      "            0.75983,     0.75943,      0.7592,     0.75784,     0.75741,     0.75692,     0.75628,     0.75566,     0.75454,     0.75364,     0.75318,     0.75245,     0.75172,      0.7503,     0.74959,     0.74901,      0.7487,     0.74782,     0.74745,     0.74704,     0.74605,     0.74579,     0.74524,\n",
      "            0.74449,     0.74411,     0.74386,      0.7429,     0.74216,     0.74187,     0.74187,     0.74147,     0.74107,     0.74075,     0.73988,     0.73947,     0.73884,     0.73832,     0.73785,     0.73732,     0.73688,     0.73581,     0.73506,     0.73479,     0.73448,     0.73416,     0.73353,\n",
      "            0.73296,     0.73277,     0.73241,     0.73188,     0.73105,     0.73049,     0.73024,     0.72961,     0.72909,     0.72842,     0.72772,     0.72703,     0.72525,     0.72505,     0.72459,     0.72404,      0.7229,      0.7221,     0.72164,      0.7214,      0.7205,      0.7198,     0.71919,\n",
      "            0.71878,     0.71745,     0.71624,     0.71508,     0.71456,     0.71331,     0.71283,     0.71249,     0.71165,     0.71105,      0.7106,     0.71013,     0.70871,     0.70775,     0.70687,     0.70558,     0.70541,      0.7046,     0.70368,     0.70278,     0.70211,     0.70147,      0.7012,\n",
      "            0.70014,     0.69965,     0.69896,     0.69828,      0.6977,     0.69678,     0.69589,     0.69548,     0.69504,     0.69385,     0.69314,      0.6923,     0.69154,     0.69074,     0.68965,     0.68873,       0.688,     0.68756,     0.68661,      0.6861,     0.68542,     0.68496,     0.68372,\n",
      "            0.68322,     0.68258,     0.68182,      0.6813,     0.68007,     0.67869,     0.67815,     0.67724,     0.67598,     0.67499,     0.67383,     0.67302,     0.67206,     0.67159,     0.66993,     0.66915,     0.66843,     0.66752,     0.66635,     0.66587,     0.66467,     0.66362,      0.6622,\n",
      "            0.66169,     0.66111,     0.66023,     0.65945,     0.65818,     0.65712,     0.65626,     0.65546,     0.65441,     0.65399,     0.65311,     0.65203,     0.65076,     0.64962,     0.64801,     0.64677,     0.64544,     0.64361,     0.64222,     0.64111,     0.64047,     0.63898,     0.63815,\n",
      "             0.6369,     0.63513,     0.63393,     0.63273,     0.63101,     0.63014,     0.62888,     0.62747,     0.62586,     0.62414,     0.62259,     0.62128,     0.62034,     0.61872,     0.61714,     0.61579,      0.6146,     0.61345,     0.61188,     0.61075,     0.60974,     0.60852,     0.60766,\n",
      "            0.60693,     0.60536,     0.60417,     0.60231,     0.60028,     0.59871,     0.59782,     0.59672,     0.59454,     0.59251,     0.59137,      0.5895,     0.58786,     0.58626,     0.58519,     0.58341,      0.5817,     0.58046,       0.579,     0.57751,     0.57622,     0.57439,      0.5729,\n",
      "            0.57036,      0.5689,     0.56718,     0.56521,     0.56302,     0.56114,     0.56004,     0.55802,     0.55661,      0.5552,     0.55318,     0.55104,     0.54855,     0.54757,     0.54559,      0.5435,     0.54087,     0.53926,     0.53808,     0.53642,     0.53332,     0.53089,     0.52938,\n",
      "            0.52636,     0.52406,     0.52206,     0.52035,     0.51901,     0.51713,     0.51556,     0.51296,     0.51005,     0.50793,     0.50551,     0.50299,     0.50124,     0.49901,     0.49713,     0.49412,     0.49109,     0.48881,     0.48657,     0.48342,     0.48071,     0.47872,     0.47732,\n",
      "            0.47438,     0.47143,     0.46796,      0.4651,     0.46178,     0.45903,     0.45526,      0.4526,     0.45002,     0.44709,     0.44557,     0.44218,     0.43883,     0.43643,     0.43326,     0.43019,     0.42737,      0.4243,     0.42154,     0.41795,     0.41439,     0.41102,     0.40717,\n",
      "            0.40398,     0.40016,     0.39663,     0.39421,     0.39028,     0.38634,     0.38295,     0.37906,     0.37545,     0.37146,     0.36674,     0.36131,     0.35694,     0.35243,     0.34816,     0.34472,     0.33946,     0.33432,     0.32935,     0.32495,     0.32014,     0.31684,     0.31171,\n",
      "            0.30694,     0.30278,     0.29914,     0.29502,     0.29033,     0.28525,       0.281,     0.27622,     0.27165,     0.26697,     0.26181,     0.25717,     0.25239,     0.24797,     0.24363,     0.23888,     0.23501,     0.23063,     0.22651,     0.22353,     0.21745,     0.21234,     0.20821,\n",
      "            0.20417,     0.19917,      0.1934,      0.1889,     0.18244,     0.17948,     0.17561,     0.16963,     0.16629,     0.16181,     0.15885,     0.15554,     0.15169,     0.14767,     0.14335,     0.13988,      0.1352,     0.13108,     0.12782,     0.12509,       0.122,     0.11835,     0.11454,\n",
      "            0.11232,     0.10926,     0.10615,     0.10202,    0.099822,    0.096955,    0.093651,    0.090885,    0.089052,    0.086055,    0.084124,    0.081813,    0.079442,     0.07647,    0.074476,    0.073336,    0.070858,    0.069261,    0.066729,    0.064722,    0.063092,     0.06216,    0.061028,\n",
      "             0.0598,    0.058414,    0.056448,    0.054881,    0.052888,    0.051656,    0.049612,    0.048835,    0.047358,    0.045512,    0.043889,    0.042637,     0.04153,    0.040597,    0.038985,    0.037656,    0.036448,    0.035534,    0.034122,    0.032409,    0.031603,     0.03099,    0.029801,\n",
      "           0.028962,    0.027942,    0.027281,    0.026441,    0.025312,    0.024376,     0.02332,    0.022758,     0.02217,    0.021828,    0.020603,    0.019856,     0.01962,    0.019024,    0.018377,    0.017837,    0.017631,    0.016934,    0.015838,    0.015574,    0.015176,    0.015056,    0.014345,\n",
      "           0.013655,    0.013054,    0.012569,    0.012268,    0.011803,    0.010971,    0.010724,    0.010475,    0.010299,   0.0093591,   0.0088603,   0.0084919,   0.0081697,   0.0077662,   0.0072444,   0.0067712,   0.0062953,   0.0061894,   0.0059943,   0.0056037,   0.0053378,   0.0047668,   0.0046006,\n",
      "           0.004322,   0.0039669,   0.0036968,   0.0035266,   0.0034859,   0.0034452,   0.0032303,   0.0030962,   0.0029929,   0.0027845,   0.0027185,    0.002651,   0.0024935,     0.00222,   0.0018338,   0.0017484,   0.0017129,   0.0016774,   0.0016305,   0.0013934,   0.0013453,   0.0012991,   0.0012473,\n",
      "          0.0011797,   0.0010696,  0.00093684,  0.00070327,  0.00062458,  0.00061032,  0.00059606,   0.0005818,  0.00056754,  0.00055328,  0.00053902,  0.00052476,   0.0005105,  0.00045381,  0.00037904,  0.00036802,    0.000357,  0.00034598,  0.00033496,  0.00032394,  0.00031292,   0.0003019,  0.00029089,\n",
      "         0.00027987,  0.00026885,  0.00025783,  0.00024122,  0.00022017,  0.00019911,  0.00017805,  0.00015699,  0.00013593,           0,           0,           0,           0,           0,           0,           0,           0,           0,           0,           0,           0,           0,           0,\n",
      "                  0,           0,           0,           0,           0,           0,           0,           0,           0,           0,           0,           0,           0,           0,           0,           0,           0,           0,           0,           0,           0,           0,           0,\n",
      "                  0,           0,           0,           0,           0,           0,           0,           0,           0,           0,           0,           0,           0,           0,           0,           0,           0,           0,           0,           0,           0,           0,           0,\n",
      "                  0,           0,           0,           0,           0,           0,           0,           0,           0,           0,           0]]), 'Confidence', 'Recall']]\n",
      "fitness: 0.5401257059361806\n",
      "keys: ['metrics/precision(B)', 'metrics/recall(B)', 'metrics/mAP50(B)', 'metrics/mAP50-95(B)']\n",
      "maps: array([    0.50556])\n",
      "names: {0: 'person'}\n",
      "plot: True\n",
      "results_dict: {'metrics/precision(B)': 0.859721321006599, 'metrics/recall(B)': 0.7884153281902112, 'metrics/mAP50(B)': 0.8512363472551772, 'metrics/mAP50-95(B)': 0.5055578569007365, 'fitness': 0.5401257059361806}\n",
      "save_dir: WindowsPath('person_detection/exp1')\n",
      "speed: {'preprocess': 0.1431743718187811, 'inference': 2.2318519968554416, 'loss': 0.00040112444182444117, 'postprocess': 1.218401917287036}\n",
      "task: 'detect'\n"
     ]
    }
   ],
   "source": [
    "%cd C:\\Users\\RYZEN\\Desktop\\Person Detection Model\\datasets\n",
    "from ultralytics import YOLO\n",
    "\n",
    "# Initialize model\n",
    "model = YOLO()\n",
    "\n",
    "# Train with TensorBoard logging\n",
    "results = model.train(\n",
    "    data=r\"C:\\Users\\RYZEN\\Desktop\\Person Detection Model\\datasets\\People-Detection-(General)-7\\data.yaml\",\n",
    "    epochs=20,\n",
    "    batch=32,  \n",
    "    project='person_detection',\n",
    "    name='exp1',\n",
    "    device='cuda',  # Specify GPU usage\n",
    "    amp=False,  # Disable AMP \n",
    "    imgsz=416,  # Set image size to 640x640; 416x416; 256x256\n",
    ")\n",
    "\n",
    "# Print training results\n",
    "print(f\"Training Results: {results}\")"
   ]
  },
  {
   "cell_type": "markdown",
   "metadata": {},
   "source": [
    "VALIDATE MODEL USING VALID DATA:"
   ]
  },
  {
   "cell_type": "code",
   "execution_count": 2,
   "metadata": {},
   "outputs": [
    {
     "name": "stdout",
     "output_type": "stream",
     "text": [
      "Ultralytics 8.3.3  Python-3.11.5 torch-2.6.0.dev20241001+cu124 CUDA:0 (NVIDIA GeForce GTX 1650 SUPER, 4096MiB)\n",
      "Model summary (fused): 186 layers, 2,684,563 parameters, 0 gradients, 6.8 GFLOPs\n"
     ]
    },
    {
     "name": "stderr",
     "output_type": "stream",
     "text": [
      "\u001b[34m\u001b[1mval: \u001b[0mScanning C:\\Users\\RYZEN\\Desktop\\Person Detection Model\\datasets\\People-Detection-(General)-7\\valid\\labels.cache... 2494 images, 361 backgrounds, 0 corrupt: 100%|██████████| 2494/2494 [00:00<?, ?it/s]\n",
      "                 Class     Images  Instances      Box(P          R      mAP50  mAP50-95): 100%|██████████| 156/156 [00:20<00:00,  7.54it/s]\n"
     ]
    },
    {
     "name": "stdout",
     "output_type": "stream",
     "text": [
      "                   all       2494       7907       0.86      0.788      0.851      0.506\n",
      "Speed: 0.1ms preprocess, 2.4ms inference, 0.0ms loss, 1.1ms postprocess per image\n",
      "Results saved to \u001b[1mruns\\detect\\val2\u001b[0m\n"
     ]
    },
    {
     "data": {
      "text/plain": [
       "0.7884153281902112"
      ]
     },
     "execution_count": 2,
     "metadata": {},
     "output_type": "execute_result"
    }
   ],
   "source": [
    "from ultralytics import YOLO\n",
    "\n",
    "# Load a model\n",
    "model = YOLO('C:\\\\Users\\\\RYZEN\\\\Desktop\\\\Person Detection Model\\\\datasets\\\\person_detection\\\\exp1\\\\weights\\\\best.pt')\n",
    "\n",
    "# Validate the model\n",
    "metrics = model.val()  # no arguments needed, dataset and settings remembered\n",
    "metrics.box.map    # map50-95\n",
    "metrics.box.map50  # map50\n",
    "metrics.box.map75  # map75\n",
    "metrics.box.maps   # a list contains map50-95 of each category\n",
    "metrics.box.mp    # P\n",
    "metrics.box.mr    # R"
   ]
  },
  {
   "cell_type": "markdown",
   "metadata": {},
   "source": [
    "VALIDATE MODEL USING TEST DATA:"
   ]
  },
  {
   "cell_type": "code",
   "execution_count": 1,
   "metadata": {},
   "outputs": [
    {
     "name": "stdout",
     "output_type": "stream",
     "text": [
      "Ultralytics 8.3.3 🚀 Python-3.11.5 torch-2.6.0.dev20241001+cu124 CUDA:0 (NVIDIA GeForce GTX 1650 SUPER, 4096MiB)\n",
      "Model summary (fused): 186 layers, 2,684,563 parameters, 0 gradients, 6.8 GFLOPs\n",
      "\u001b[34m\u001b[1mval: \u001b[0mNew cache created: C:\\Users\\RYZEN\\Desktop\\Person Detection Model\\datasets\\People-Detection-(General)-7\\test\\labels.cache\n",
      "                   all       1899       4731      0.795      0.801      0.826      0.519\n",
      "Speed: 0.1ms preprocess, 2.4ms inference, 0.0ms loss, 1.4ms postprocess per image\n",
      "Results saved to \u001b[1mruns\\detect\\val\u001b[0m\n",
      "💡 Learn more at https://docs.ultralytics.com/modes/val\n"
     ]
    },
    {
     "name": "stderr",
     "output_type": "stream",
     "text": [
      "\n",
      "\u001b[34m\u001b[1mval: \u001b[0mScanning C:\\Users\\RYZEN\\Desktop\\Person Detection Model\\datasets\\People-Detection-(General)-7\\test\\labels...:   0%|          | 0/1899 [00:00<?, ?it/s]\n",
      "\u001b[34m\u001b[1mval: \u001b[0mScanning C:\\Users\\RYZEN\\Desktop\\Person Detection Model\\datasets\\People-Detection-(General)-7\\test\\labels... 33 images, 1 backgrounds, 0 corrupt:   2%|▏         | 33/1899 [00:00<00:05, 315.23it/s]\n",
      "\u001b[34m\u001b[1mval: \u001b[0mScanning C:\\Users\\RYZEN\\Desktop\\Person Detection Model\\datasets\\People-Detection-(General)-7\\test\\labels... 73 images, 1 backgrounds, 0 corrupt:   4%|▍         | 73/1899 [00:00<00:05, 353.89it/s]\n",
      "\u001b[34m\u001b[1mval: \u001b[0mScanning C:\\Users\\RYZEN\\Desktop\\Person Detection Model\\datasets\\People-Detection-(General)-7\\test\\labels... 120 images, 1 backgrounds, 0 corrupt:   6%|▋         | 120/1899 [00:00<00:04, 391.56it/s]\n",
      "\u001b[34m\u001b[1mval: \u001b[0mScanning C:\\Users\\RYZEN\\Desktop\\Person Detection Model\\datasets\\People-Detection-(General)-7\\test\\labels... 160 images, 1 backgrounds, 0 corrupt:   8%|▊         | 160/1899 [00:00<00:04, 385.93it/s]\n",
      "\u001b[34m\u001b[1mval: \u001b[0mScanning C:\\Users\\RYZEN\\Desktop\\Person Detection Model\\datasets\\People-Detection-(General)-7\\test\\labels... 199 images, 1 backgrounds, 0 corrupt:  10%|█         | 199/1899 [00:00<00:04, 372.84it/s]\n",
      "\u001b[34m\u001b[1mval: \u001b[0mScanning C:\\Users\\RYZEN\\Desktop\\Person Detection Model\\datasets\\People-Detection-(General)-7\\test\\labels... 239 images, 1 backgrounds, 0 corrupt:  13%|█▎        | 239/1899 [00:00<00:04, 377.92it/s]\n",
      "\u001b[34m\u001b[1mval: \u001b[0mScanning C:\\Users\\RYZEN\\Desktop\\Person Detection Model\\datasets\\People-Detection-(General)-7\\test\\labels... 279 images, 1 backgrounds, 0 corrupt:  15%|█▍        | 279/1899 [00:00<00:04, 378.87it/s]\n",
      "\u001b[34m\u001b[1mval: \u001b[0mScanning C:\\Users\\RYZEN\\Desktop\\Person Detection Model\\datasets\\People-Detection-(General)-7\\test\\labels... 320 images, 1 backgrounds, 0 corrupt:  17%|█▋        | 320/1899 [00:00<00:04, 379.09it/s]\n",
      "\u001b[34m\u001b[1mval: \u001b[0mScanning C:\\Users\\RYZEN\\Desktop\\Person Detection Model\\datasets\\People-Detection-(General)-7\\test\\labels... 360 images, 1 backgrounds, 0 corrupt:  19%|█▉        | 360/1899 [00:00<00:04, 384.17it/s]\n",
      "\u001b[34m\u001b[1mval: \u001b[0mScanning C:\\Users\\RYZEN\\Desktop\\Person Detection Model\\datasets\\People-Detection-(General)-7\\test\\labels... 406 images, 1 backgrounds, 0 corrupt:  21%|██▏       | 406/1899 [00:01<00:03, 398.46it/s]\n",
      "\u001b[34m\u001b[1mval: \u001b[0mScanning C:\\Users\\RYZEN\\Desktop\\Person Detection Model\\datasets\\People-Detection-(General)-7\\test\\labels... 446 images, 1 backgrounds, 0 corrupt:  23%|██▎       | 446/1899 [00:01<00:03, 398.89it/s]\n",
      "\u001b[34m\u001b[1mval: \u001b[0mScanning C:\\Users\\RYZEN\\Desktop\\Person Detection Model\\datasets\\People-Detection-(General)-7\\test\\labels... 488 images, 1 backgrounds, 0 corrupt:  26%|██▌       | 488/1899 [00:01<00:03, 393.46it/s]\n",
      "\u001b[34m\u001b[1mval: \u001b[0mScanning C:\\Users\\RYZEN\\Desktop\\Person Detection Model\\datasets\\People-Detection-(General)-7\\test\\labels... 528 images, 1 backgrounds, 0 corrupt:  28%|██▊       | 528/1899 [00:01<00:03, 388.54it/s]\n",
      "\u001b[34m\u001b[1mval: \u001b[0mScanning C:\\Users\\RYZEN\\Desktop\\Person Detection Model\\datasets\\People-Detection-(General)-7\\test\\labels... 567 images, 1 backgrounds, 0 corrupt:  30%|██▉       | 567/1899 [00:01<00:03, 382.28it/s]\n",
      "\u001b[34m\u001b[1mval: \u001b[0mScanning C:\\Users\\RYZEN\\Desktop\\Person Detection Model\\datasets\\People-Detection-(General)-7\\test\\labels... 606 images, 1 backgrounds, 0 corrupt:  32%|███▏      | 606/1899 [00:01<00:03, 379.00it/s]\n",
      "\u001b[34m\u001b[1mval: \u001b[0mScanning C:\\Users\\RYZEN\\Desktop\\Person Detection Model\\datasets\\People-Detection-(General)-7\\test\\labels... 644 images, 1 backgrounds, 0 corrupt:  34%|███▍      | 644/1899 [00:01<00:03, 370.68it/s]\n",
      "\u001b[34m\u001b[1mval: \u001b[0mScanning C:\\Users\\RYZEN\\Desktop\\Person Detection Model\\datasets\\People-Detection-(General)-7\\test\\labels... 682 images, 1 backgrounds, 0 corrupt:  36%|███▌      | 682/1899 [00:01<00:03, 371.20it/s]\n",
      "\u001b[34m\u001b[1mval: \u001b[0mScanning C:\\Users\\RYZEN\\Desktop\\Person Detection Model\\datasets\\People-Detection-(General)-7\\test\\labels... 726 images, 1 backgrounds, 0 corrupt:  38%|███▊      | 726/1899 [00:01<00:03, 382.27it/s]\n",
      "\u001b[34m\u001b[1mval: \u001b[0mScanning C:\\Users\\RYZEN\\Desktop\\Person Detection Model\\datasets\\People-Detection-(General)-7\\test\\labels... 766 images, 1 backgrounds, 0 corrupt:  40%|████      | 766/1899 [00:02<00:02, 384.03it/s]\n",
      "\u001b[34m\u001b[1mval: \u001b[0mScanning C:\\Users\\RYZEN\\Desktop\\Person Detection Model\\datasets\\People-Detection-(General)-7\\test\\labels... 806 images, 1 backgrounds, 0 corrupt:  42%|████▏     | 806/1899 [00:02<00:02, 383.08it/s]\n",
      "\u001b[34m\u001b[1mval: \u001b[0mScanning C:\\Users\\RYZEN\\Desktop\\Person Detection Model\\datasets\\People-Detection-(General)-7\\test\\labels... 845 images, 1 backgrounds, 0 corrupt:  44%|████▍     | 845/1899 [00:02<00:02, 383.24it/s]\n",
      "\u001b[34m\u001b[1mval: \u001b[0mScanning C:\\Users\\RYZEN\\Desktop\\Person Detection Model\\datasets\\People-Detection-(General)-7\\test\\labels... 885 images, 1 backgrounds, 0 corrupt:  47%|████▋     | 885/1899 [00:02<00:02, 382.52it/s]\n",
      "\u001b[34m\u001b[1mval: \u001b[0mScanning C:\\Users\\RYZEN\\Desktop\\Person Detection Model\\datasets\\People-Detection-(General)-7\\test\\labels... 928 images, 1 backgrounds, 0 corrupt:  49%|████▉     | 928/1899 [00:02<00:02, 389.52it/s]\n",
      "\u001b[34m\u001b[1mval: \u001b[0mScanning C:\\Users\\RYZEN\\Desktop\\Person Detection Model\\datasets\\People-Detection-(General)-7\\test\\labels... 970 images, 1 backgrounds, 0 corrupt:  51%|█████     | 970/1899 [00:02<00:02, 398.34it/s]\n",
      "\u001b[34m\u001b[1mval: \u001b[0mScanning C:\\Users\\RYZEN\\Desktop\\Person Detection Model\\datasets\\People-Detection-(General)-7\\test\\labels... 1011 images, 1 backgrounds, 0 corrupt:  53%|█████▎    | 1011/1899 [00:02<00:02, 395.93it/s]\n",
      "\u001b[34m\u001b[1mval: \u001b[0mScanning C:\\Users\\RYZEN\\Desktop\\Person Detection Model\\datasets\\People-Detection-(General)-7\\test\\labels... 1052 images, 1 backgrounds, 0 corrupt:  55%|█████▌    | 1052/1899 [00:02<00:02, 398.85it/s]\n",
      "\u001b[34m\u001b[1mval: \u001b[0mScanning C:\\Users\\RYZEN\\Desktop\\Person Detection Model\\datasets\\People-Detection-(General)-7\\test\\labels... 1094 images, 1 backgrounds, 0 corrupt:  58%|█████▊    | 1094/1899 [00:02<00:01, 403.85it/s]\n",
      "\u001b[34m\u001b[1mval: \u001b[0mScanning C:\\Users\\RYZEN\\Desktop\\Person Detection Model\\datasets\\People-Detection-(General)-7\\test\\labels... 1135 images, 1 backgrounds, 0 corrupt:  60%|█████▉    | 1135/1899 [00:02<00:01, 405.63it/s]\n",
      "\u001b[34m\u001b[1mval: \u001b[0mScanning C:\\Users\\RYZEN\\Desktop\\Person Detection Model\\datasets\\People-Detection-(General)-7\\test\\labels... 1176 images, 1 backgrounds, 0 corrupt:  62%|██████▏   | 1176/1899 [00:03<00:01, 394.05it/s]\n",
      "\u001b[34m\u001b[1mval: \u001b[0mScanning C:\\Users\\RYZEN\\Desktop\\Person Detection Model\\datasets\\People-Detection-(General)-7\\test\\labels... 1216 images, 1 backgrounds, 0 corrupt:  64%|██████▍   | 1216/1899 [00:03<00:01, 385.66it/s]\n",
      "\u001b[34m\u001b[1mval: \u001b[0mScanning C:\\Users\\RYZEN\\Desktop\\Person Detection Model\\datasets\\People-Detection-(General)-7\\test\\labels... 1255 images, 1 backgrounds, 0 corrupt:  66%|██████▌   | 1255/1899 [00:03<00:01, 380.52it/s]\n",
      "\u001b[34m\u001b[1mval: \u001b[0mScanning C:\\Users\\RYZEN\\Desktop\\Person Detection Model\\datasets\\People-Detection-(General)-7\\test\\labels... 1294 images, 1 backgrounds, 0 corrupt:  68%|██████▊   | 1294/1899 [00:03<00:01, 370.41it/s]\n",
      "\u001b[34m\u001b[1mval: \u001b[0mScanning C:\\Users\\RYZEN\\Desktop\\Person Detection Model\\datasets\\People-Detection-(General)-7\\test\\labels... 1333 images, 1 backgrounds, 0 corrupt:  70%|███████   | 1333/1899 [00:03<00:01, 368.61it/s]\n",
      "\u001b[34m\u001b[1mval: \u001b[0mScanning C:\\Users\\RYZEN\\Desktop\\Person Detection Model\\datasets\\People-Detection-(General)-7\\test\\labels... 1373 images, 1 backgrounds, 0 corrupt:  72%|███████▏  | 1373/1899 [00:03<00:01, 374.34it/s]\n",
      "\u001b[34m\u001b[1mval: \u001b[0mScanning C:\\Users\\RYZEN\\Desktop\\Person Detection Model\\datasets\\People-Detection-(General)-7\\test\\labels... 1411 images, 1 backgrounds, 0 corrupt:  74%|███████▍  | 1411/1899 [00:03<00:01, 353.57it/s]\n",
      "\u001b[34m\u001b[1mval: \u001b[0mScanning C:\\Users\\RYZEN\\Desktop\\Person Detection Model\\datasets\\People-Detection-(General)-7\\test\\labels... 1450 images, 1 backgrounds, 0 corrupt:  76%|███████▋  | 1450/1899 [00:03<00:01, 359.69it/s]\n",
      "\u001b[34m\u001b[1mval: \u001b[0mScanning C:\\Users\\RYZEN\\Desktop\\Person Detection Model\\datasets\\People-Detection-(General)-7\\test\\labels... 1490 images, 1 backgrounds, 0 corrupt:  78%|███████▊  | 1490/1899 [00:03<00:01, 365.88it/s]\n",
      "\u001b[34m\u001b[1mval: \u001b[0mScanning C:\\Users\\RYZEN\\Desktop\\Person Detection Model\\datasets\\People-Detection-(General)-7\\test\\labels... 1534 images, 1 backgrounds, 0 corrupt:  81%|████████  | 1534/1899 [00:04<00:00, 380.46it/s]\n",
      "\u001b[34m\u001b[1mval: \u001b[0mScanning C:\\Users\\RYZEN\\Desktop\\Person Detection Model\\datasets\\People-Detection-(General)-7\\test\\labels... 1578 images, 1 backgrounds, 0 corrupt:  83%|████████▎ | 1578/1899 [00:04<00:00, 390.74it/s]\n",
      "\u001b[34m\u001b[1mval: \u001b[0mScanning C:\\Users\\RYZEN\\Desktop\\Person Detection Model\\datasets\\People-Detection-(General)-7\\test\\labels... 1621 images, 1 backgrounds, 0 corrupt:  85%|████████▌ | 1621/1899 [00:04<00:00, 398.82it/s]\n",
      "\u001b[34m\u001b[1mval: \u001b[0mScanning C:\\Users\\RYZEN\\Desktop\\Person Detection Model\\datasets\\People-Detection-(General)-7\\test\\labels... 1661 images, 1 backgrounds, 0 corrupt:  87%|████████▋ | 1661/1899 [00:04<00:00, 389.03it/s]\n",
      "\u001b[34m\u001b[1mval: \u001b[0mScanning C:\\Users\\RYZEN\\Desktop\\Person Detection Model\\datasets\\People-Detection-(General)-7\\test\\labels... 1701 images, 1 backgrounds, 0 corrupt:  90%|████████▉ | 1701/1899 [00:04<00:00, 388.80it/s]\n",
      "\u001b[34m\u001b[1mval: \u001b[0mScanning C:\\Users\\RYZEN\\Desktop\\Person Detection Model\\datasets\\People-Detection-(General)-7\\test\\labels... 1745 images, 1 backgrounds, 0 corrupt:  92%|█████████▏| 1745/1899 [00:04<00:00, 403.56it/s]\n",
      "\u001b[34m\u001b[1mval: \u001b[0mScanning C:\\Users\\RYZEN\\Desktop\\Person Detection Model\\datasets\\People-Detection-(General)-7\\test\\labels... 1786 images, 1 backgrounds, 0 corrupt:  94%|█████████▍| 1786/1899 [00:04<00:00, 389.49it/s]\n",
      "\u001b[34m\u001b[1mval: \u001b[0mScanning C:\\Users\\RYZEN\\Desktop\\Person Detection Model\\datasets\\People-Detection-(General)-7\\test\\labels... 1826 images, 1 backgrounds, 0 corrupt:  96%|█████████▌| 1826/1899 [00:04<00:00, 359.55it/s]\n",
      "\u001b[34m\u001b[1mval: \u001b[0mScanning C:\\Users\\RYZEN\\Desktop\\Person Detection Model\\datasets\\People-Detection-(General)-7\\test\\labels... 1868 images, 1 backgrounds, 0 corrupt:  98%|█████████▊| 1868/1899 [00:04<00:00, 375.99it/s]\n",
      "\u001b[34m\u001b[1mval: \u001b[0mScanning C:\\Users\\RYZEN\\Desktop\\Person Detection Model\\datasets\\People-Detection-(General)-7\\test\\labels... 1899 images, 5 backgrounds, 0 corrupt: 100%|██████████| 1899/1899 [00:04<00:00, 382.93it/s]\n",
      "\n",
      "                 Class     Images  Instances      Box(P          R      mAP50  mAP50-95):   0%|          | 0/119 [00:00<?, ?it/s]\n",
      "                 Class     Images  Instances      Box(P          R      mAP50  mAP50-95):   1%|          | 1/119 [00:00<00:47,  2.49it/s]\n",
      "                 Class     Images  Instances      Box(P          R      mAP50  mAP50-95):   2%|▏         | 2/119 [00:00<00:35,  3.27it/s]\n",
      "                 Class     Images  Instances      Box(P          R      mAP50  mAP50-95):   3%|▎         | 3/119 [00:00<00:32,  3.58it/s]\n",
      "                 Class     Images  Instances      Box(P          R      mAP50  mAP50-95):   3%|▎         | 4/119 [00:01<00:30,  3.75it/s]\n",
      "                 Class     Images  Instances      Box(P          R      mAP50  mAP50-95):   4%|▍         | 5/119 [00:01<00:24,  4.60it/s]\n",
      "                 Class     Images  Instances      Box(P          R      mAP50  mAP50-95):   5%|▌         | 6/119 [00:01<00:21,  5.16it/s]\n",
      "                 Class     Images  Instances      Box(P          R      mAP50  mAP50-95):   6%|▌         | 7/119 [00:01<00:20,  5.46it/s]\n",
      "                 Class     Images  Instances      Box(P          R      mAP50  mAP50-95):   7%|▋         | 8/119 [00:01<00:18,  5.91it/s]\n",
      "                 Class     Images  Instances      Box(P          R      mAP50  mAP50-95):   8%|▊         | 9/119 [00:01<00:17,  6.42it/s]\n",
      "                 Class     Images  Instances      Box(P          R      mAP50  mAP50-95):   8%|▊         | 10/119 [00:01<00:16,  6.67it/s]\n",
      "                 Class     Images  Instances      Box(P          R      mAP50  mAP50-95):   9%|▉         | 11/119 [00:02<00:15,  7.10it/s]\n",
      "                 Class     Images  Instances      Box(P          R      mAP50  mAP50-95):  10%|█         | 12/119 [00:02<00:14,  7.24it/s]\n",
      "                 Class     Images  Instances      Box(P          R      mAP50  mAP50-95):  11%|█         | 13/119 [00:02<00:14,  7.13it/s]\n",
      "                 Class     Images  Instances      Box(P          R      mAP50  mAP50-95):  12%|█▏        | 14/119 [00:02<00:15,  6.98it/s]\n",
      "                 Class     Images  Instances      Box(P          R      mAP50  mAP50-95):  13%|█▎        | 15/119 [00:02<00:14,  7.07it/s]\n",
      "                 Class     Images  Instances      Box(P          R      mAP50  mAP50-95):  13%|█▎        | 16/119 [00:02<00:14,  7.23it/s]\n",
      "                 Class     Images  Instances      Box(P          R      mAP50  mAP50-95):  14%|█▍        | 17/119 [00:02<00:14,  7.05it/s]\n",
      "                 Class     Images  Instances      Box(P          R      mAP50  mAP50-95):  15%|█▌        | 18/119 [00:03<00:14,  7.14it/s]\n",
      "                 Class     Images  Instances      Box(P          R      mAP50  mAP50-95):  16%|█▌        | 19/119 [00:03<00:13,  7.20it/s]\n",
      "                 Class     Images  Instances      Box(P          R      mAP50  mAP50-95):  17%|█▋        | 20/119 [00:03<00:14,  6.97it/s]\n",
      "                 Class     Images  Instances      Box(P          R      mAP50  mAP50-95):  18%|█▊        | 21/119 [00:03<00:13,  7.02it/s]\n",
      "                 Class     Images  Instances      Box(P          R      mAP50  mAP50-95):  18%|█▊        | 22/119 [00:03<00:14,  6.88it/s]\n",
      "                 Class     Images  Instances      Box(P          R      mAP50  mAP50-95):  19%|█▉        | 23/119 [00:03<00:13,  6.96it/s]\n",
      "                 Class     Images  Instances      Box(P          R      mAP50  mAP50-95):  20%|██        | 24/119 [00:03<00:13,  7.01it/s]\n",
      "                 Class     Images  Instances      Box(P          R      mAP50  mAP50-95):  21%|██        | 25/119 [00:04<00:13,  7.14it/s]\n",
      "                 Class     Images  Instances      Box(P          R      mAP50  mAP50-95):  22%|██▏       | 26/119 [00:04<00:12,  7.27it/s]\n",
      "                 Class     Images  Instances      Box(P          R      mAP50  mAP50-95):  23%|██▎       | 27/119 [00:04<00:12,  7.20it/s]\n",
      "                 Class     Images  Instances      Box(P          R      mAP50  mAP50-95):  24%|██▎       | 28/119 [00:04<00:12,  7.07it/s]\n",
      "                 Class     Images  Instances      Box(P          R      mAP50  mAP50-95):  24%|██▍       | 29/119 [00:04<00:12,  7.09it/s]\n",
      "                 Class     Images  Instances      Box(P          R      mAP50  mAP50-95):  25%|██▌       | 30/119 [00:04<00:12,  7.03it/s]\n",
      "                 Class     Images  Instances      Box(P          R      mAP50  mAP50-95):  26%|██▌       | 31/119 [00:04<00:12,  7.22it/s]\n",
      "                 Class     Images  Instances      Box(P          R      mAP50  mAP50-95):  27%|██▋       | 32/119 [00:05<00:12,  6.88it/s]\n",
      "                 Class     Images  Instances      Box(P          R      mAP50  mAP50-95):  28%|██▊       | 33/119 [00:05<00:13,  6.16it/s]\n",
      "                 Class     Images  Instances      Box(P          R      mAP50  mAP50-95):  29%|██▊       | 34/119 [00:05<00:13,  6.30it/s]\n",
      "                 Class     Images  Instances      Box(P          R      mAP50  mAP50-95):  29%|██▉       | 35/119 [00:05<00:12,  6.73it/s]\n",
      "                 Class     Images  Instances      Box(P          R      mAP50  mAP50-95):  30%|███       | 36/119 [00:05<00:11,  6.95it/s]\n",
      "                 Class     Images  Instances      Box(P          R      mAP50  mAP50-95):  31%|███       | 37/119 [00:05<00:11,  6.96it/s]\n",
      "                 Class     Images  Instances      Box(P          R      mAP50  mAP50-95):  32%|███▏      | 38/119 [00:06<00:12,  6.26it/s]\n",
      "                 Class     Images  Instances      Box(P          R      mAP50  mAP50-95):  33%|███▎      | 39/119 [00:06<00:12,  6.22it/s]\n",
      "                 Class     Images  Instances      Box(P          R      mAP50  mAP50-95):  34%|███▎      | 40/119 [00:06<00:11,  6.67it/s]\n",
      "                 Class     Images  Instances      Box(P          R      mAP50  mAP50-95):  34%|███▍      | 41/119 [00:06<00:11,  6.60it/s]\n",
      "                 Class     Images  Instances      Box(P          R      mAP50  mAP50-95):  35%|███▌      | 42/119 [00:06<00:13,  5.91it/s]\n",
      "                 Class     Images  Instances      Box(P          R      mAP50  mAP50-95):  36%|███▌      | 43/119 [00:06<00:13,  5.74it/s]\n",
      "                 Class     Images  Instances      Box(P          R      mAP50  mAP50-95):  37%|███▋      | 44/119 [00:07<00:13,  5.66it/s]\n",
      "                 Class     Images  Instances      Box(P          R      mAP50  mAP50-95):  38%|███▊      | 45/119 [00:07<00:12,  6.06it/s]\n",
      "                 Class     Images  Instances      Box(P          R      mAP50  mAP50-95):  39%|███▊      | 46/119 [00:07<00:11,  6.61it/s]\n",
      "                 Class     Images  Instances      Box(P          R      mAP50  mAP50-95):  39%|███▉      | 47/119 [00:07<00:10,  7.06it/s]\n",
      "                 Class     Images  Instances      Box(P          R      mAP50  mAP50-95):  40%|████      | 48/119 [00:07<00:09,  7.25it/s]\n",
      "                 Class     Images  Instances      Box(P          R      mAP50  mAP50-95):  41%|████      | 49/119 [00:07<00:10,  6.53it/s]\n",
      "                 Class     Images  Instances      Box(P          R      mAP50  mAP50-95):  42%|████▏     | 50/119 [00:07<00:11,  6.23it/s]\n",
      "                 Class     Images  Instances      Box(P          R      mAP50  mAP50-95):  43%|████▎     | 51/119 [00:08<00:11,  5.86it/s]\n",
      "                 Class     Images  Instances      Box(P          R      mAP50  mAP50-95):  44%|████▎     | 52/119 [00:08<00:11,  5.81it/s]\n",
      "                 Class     Images  Instances      Box(P          R      mAP50  mAP50-95):  45%|████▍     | 53/119 [00:08<00:11,  5.63it/s]\n",
      "                 Class     Images  Instances      Box(P          R      mAP50  mAP50-95):  45%|████▌     | 54/119 [00:08<00:11,  5.61it/s]\n",
      "                 Class     Images  Instances      Box(P          R      mAP50  mAP50-95):  46%|████▌     | 55/119 [00:08<00:11,  5.69it/s]\n",
      "                 Class     Images  Instances      Box(P          R      mAP50  mAP50-95):  47%|████▋     | 56/119 [00:08<00:10,  5.93it/s]\n",
      "                 Class     Images  Instances      Box(P          R      mAP50  mAP50-95):  48%|████▊     | 57/119 [00:09<00:10,  5.90it/s]\n",
      "                 Class     Images  Instances      Box(P          R      mAP50  mAP50-95):  49%|████▊     | 58/119 [00:09<00:10,  5.76it/s]\n",
      "                 Class     Images  Instances      Box(P          R      mAP50  mAP50-95):  50%|████▉     | 59/119 [00:09<00:09,  6.06it/s]\n",
      "                 Class     Images  Instances      Box(P          R      mAP50  mAP50-95):  50%|█████     | 60/119 [00:09<00:09,  6.15it/s]\n",
      "                 Class     Images  Instances      Box(P          R      mAP50  mAP50-95):  51%|█████▏    | 61/119 [00:09<00:09,  6.21it/s]\n",
      "                 Class     Images  Instances      Box(P          R      mAP50  mAP50-95):  52%|█████▏    | 62/119 [00:09<00:09,  6.24it/s]\n",
      "                 Class     Images  Instances      Box(P          R      mAP50  mAP50-95):  53%|█████▎    | 63/119 [00:10<00:08,  6.33it/s]\n",
      "                 Class     Images  Instances      Box(P          R      mAP50  mAP50-95):  54%|█████▍    | 64/119 [00:10<00:08,  6.31it/s]\n",
      "                 Class     Images  Instances      Box(P          R      mAP50  mAP50-95):  55%|█████▍    | 65/119 [00:10<00:08,  6.30it/s]\n",
      "                 Class     Images  Instances      Box(P          R      mAP50  mAP50-95):  55%|█████▌    | 66/119 [00:10<00:08,  6.39it/s]\n",
      "                 Class     Images  Instances      Box(P          R      mAP50  mAP50-95):  56%|█████▋    | 67/119 [00:10<00:07,  6.65it/s]\n",
      "                 Class     Images  Instances      Box(P          R      mAP50  mAP50-95):  57%|█████▋    | 68/119 [00:10<00:07,  6.91it/s]\n",
      "                 Class     Images  Instances      Box(P          R      mAP50  mAP50-95):  58%|█████▊    | 69/119 [00:10<00:06,  7.32it/s]\n",
      "                 Class     Images  Instances      Box(P          R      mAP50  mAP50-95):  59%|█████▉    | 70/119 [00:11<00:06,  7.43it/s]\n",
      "                 Class     Images  Instances      Box(P          R      mAP50  mAP50-95):  60%|█████▉    | 71/119 [00:11<00:06,  7.64it/s]\n",
      "                 Class     Images  Instances      Box(P          R      mAP50  mAP50-95):  61%|██████    | 72/119 [00:11<00:06,  7.55it/s]\n",
      "                 Class     Images  Instances      Box(P          R      mAP50  mAP50-95):  61%|██████▏   | 73/119 [00:11<00:06,  7.52it/s]\n",
      "                 Class     Images  Instances      Box(P          R      mAP50  mAP50-95):  62%|██████▏   | 74/119 [00:11<00:06,  7.11it/s]\n",
      "                 Class     Images  Instances      Box(P          R      mAP50  mAP50-95):  63%|██████▎   | 75/119 [00:11<00:06,  6.98it/s]\n",
      "                 Class     Images  Instances      Box(P          R      mAP50  mAP50-95):  64%|██████▍   | 76/119 [00:11<00:06,  6.47it/s]\n",
      "                 Class     Images  Instances      Box(P          R      mAP50  mAP50-95):  65%|██████▍   | 77/119 [00:12<00:06,  6.44it/s]\n",
      "                 Class     Images  Instances      Box(P          R      mAP50  mAP50-95):  66%|██████▌   | 78/119 [00:12<00:06,  6.50it/s]\n",
      "                 Class     Images  Instances      Box(P          R      mAP50  mAP50-95):  66%|██████▋   | 79/119 [00:12<00:06,  6.10it/s]\n",
      "                 Class     Images  Instances      Box(P          R      mAP50  mAP50-95):  67%|██████▋   | 80/119 [00:12<00:06,  6.23it/s]\n",
      "                 Class     Images  Instances      Box(P          R      mAP50  mAP50-95):  68%|██████▊   | 81/119 [00:12<00:05,  6.39it/s]\n",
      "                 Class     Images  Instances      Box(P          R      mAP50  mAP50-95):  69%|██████▉   | 82/119 [00:12<00:06,  5.98it/s]\n",
      "                 Class     Images  Instances      Box(P          R      mAP50  mAP50-95):  70%|██████▉   | 83/119 [00:13<00:05,  6.32it/s]\n",
      "                 Class     Images  Instances      Box(P          R      mAP50  mAP50-95):  71%|███████   | 84/119 [00:13<00:05,  6.54it/s]\n",
      "                 Class     Images  Instances      Box(P          R      mAP50  mAP50-95):  71%|███████▏  | 85/119 [00:13<00:05,  6.56it/s]\n",
      "                 Class     Images  Instances      Box(P          R      mAP50  mAP50-95):  72%|███████▏  | 86/119 [00:13<00:05,  6.59it/s]\n",
      "                 Class     Images  Instances      Box(P          R      mAP50  mAP50-95):  73%|███████▎  | 87/119 [00:13<00:04,  6.72it/s]\n",
      "                 Class     Images  Instances      Box(P          R      mAP50  mAP50-95):  74%|███████▍  | 88/119 [00:13<00:04,  6.85it/s]\n",
      "                 Class     Images  Instances      Box(P          R      mAP50  mAP50-95):  75%|███████▍  | 89/119 [00:13<00:04,  6.92it/s]\n",
      "                 Class     Images  Instances      Box(P          R      mAP50  mAP50-95):  76%|███████▌  | 90/119 [00:14<00:04,  7.16it/s]\n",
      "                 Class     Images  Instances      Box(P          R      mAP50  mAP50-95):  76%|███████▋  | 91/119 [00:14<00:03,  7.41it/s]\n",
      "                 Class     Images  Instances      Box(P          R      mAP50  mAP50-95):  77%|███████▋  | 92/119 [00:14<00:03,  7.68it/s]\n",
      "                 Class     Images  Instances      Box(P          R      mAP50  mAP50-95):  78%|███████▊  | 93/119 [00:14<00:03,  7.79it/s]\n",
      "                 Class     Images  Instances      Box(P          R      mAP50  mAP50-95):  79%|███████▉  | 94/119 [00:14<00:03,  7.91it/s]\n",
      "                 Class     Images  Instances      Box(P          R      mAP50  mAP50-95):  80%|███████▉  | 95/119 [00:14<00:03,  7.84it/s]\n",
      "                 Class     Images  Instances      Box(P          R      mAP50  mAP50-95):  81%|████████  | 96/119 [00:14<00:02,  7.81it/s]\n",
      "                 Class     Images  Instances      Box(P          R      mAP50  mAP50-95):  82%|████████▏ | 97/119 [00:14<00:02,  7.47it/s]\n",
      "                 Class     Images  Instances      Box(P          R      mAP50  mAP50-95):  82%|████████▏ | 98/119 [00:15<00:03,  6.98it/s]\n",
      "                 Class     Images  Instances      Box(P          R      mAP50  mAP50-95):  83%|████████▎ | 99/119 [00:15<00:02,  6.93it/s]\n",
      "                 Class     Images  Instances      Box(P          R      mAP50  mAP50-95):  84%|████████▍ | 100/119 [00:15<00:02,  7.10it/s]\n",
      "                 Class     Images  Instances      Box(P          R      mAP50  mAP50-95):  85%|████████▍ | 101/119 [00:15<00:02,  7.34it/s]\n",
      "                 Class     Images  Instances      Box(P          R      mAP50  mAP50-95):  86%|████████▌ | 102/119 [00:15<00:02,  7.25it/s]\n",
      "                 Class     Images  Instances      Box(P          R      mAP50  mAP50-95):  87%|████████▋ | 103/119 [00:15<00:02,  7.35it/s]\n",
      "                 Class     Images  Instances      Box(P          R      mAP50  mAP50-95):  87%|████████▋ | 104/119 [00:15<00:02,  6.90it/s]\n",
      "                 Class     Images  Instances      Box(P          R      mAP50  mAP50-95):  88%|████████▊ | 105/119 [00:16<00:02,  6.80it/s]\n",
      "                 Class     Images  Instances      Box(P          R      mAP50  mAP50-95):  89%|████████▉ | 106/119 [00:16<00:01,  6.58it/s]\n",
      "                 Class     Images  Instances      Box(P          R      mAP50  mAP50-95):  90%|████████▉ | 107/119 [00:16<00:01,  6.57it/s]\n",
      "                 Class     Images  Instances      Box(P          R      mAP50  mAP50-95):  91%|█████████ | 108/119 [00:16<00:01,  6.65it/s]\n",
      "                 Class     Images  Instances      Box(P          R      mAP50  mAP50-95):  92%|█████████▏| 109/119 [00:16<00:01,  6.73it/s]\n",
      "                 Class     Images  Instances      Box(P          R      mAP50  mAP50-95):  92%|█████████▏| 110/119 [00:16<00:01,  6.86it/s]\n",
      "                 Class     Images  Instances      Box(P          R      mAP50  mAP50-95):  93%|█████████▎| 111/119 [00:17<00:01,  6.80it/s]\n",
      "                 Class     Images  Instances      Box(P          R      mAP50  mAP50-95):  94%|█████████▍| 112/119 [00:17<00:01,  6.93it/s]\n",
      "                 Class     Images  Instances      Box(P          R      mAP50  mAP50-95):  95%|█████████▍| 113/119 [00:17<00:00,  7.22it/s]\n",
      "                 Class     Images  Instances      Box(P          R      mAP50  mAP50-95):  96%|█████████▌| 114/119 [00:17<00:00,  7.18it/s]\n",
      "                 Class     Images  Instances      Box(P          R      mAP50  mAP50-95):  97%|█████████▋| 115/119 [00:17<00:00,  7.26it/s]\n",
      "                 Class     Images  Instances      Box(P          R      mAP50  mAP50-95):  97%|█████████▋| 116/119 [00:17<00:00,  7.31it/s]\n",
      "                 Class     Images  Instances      Box(P          R      mAP50  mAP50-95):  98%|█████████▊| 117/119 [00:17<00:00,  7.24it/s]\n",
      "                 Class     Images  Instances      Box(P          R      mAP50  mAP50-95):  99%|█████████▉| 118/119 [00:18<00:00,  6.95it/s]\n",
      "                 Class     Images  Instances      Box(P          R      mAP50  mAP50-95): 100%|██████████| 119/119 [00:18<00:00,  7.10it/s]\n",
      "                 Class     Images  Instances      Box(P          R      mAP50  mAP50-95): 100%|██████████| 119/119 [00:18<00:00,  6.56it/s]\n"
     ]
    }
   ],
   "source": [
    "!yolo val model=\"C:/Users/RYZEN/Desktop/Person Detection Model/datasets/person_detection/exp1/weights/best.pt\" data=\"C:/Users/RYZEN/Desktop/Person Detection Model/datasets/People-Detection-(General)-7/data.yaml\" split=test"
   ]
  }
 ],
 "metadata": {
  "kernelspec": {
   "display_name": "Python 3",
   "language": "python",
   "name": "python3"
  },
  "language_info": {
   "codemirror_mode": {
    "name": "ipython",
    "version": 3
   },
   "file_extension": ".py",
   "mimetype": "text/x-python",
   "name": "python",
   "nbconvert_exporter": "python",
   "pygments_lexer": "ipython3",
   "version": "3.11.5"
  }
 },
 "nbformat": 4,
 "nbformat_minor": 2
}
